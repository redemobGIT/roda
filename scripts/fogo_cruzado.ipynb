{
 "cells": [
  {
   "cell_type": "code",
   "execution_count": null,
   "id": "8b59a9e7-fe15-4670-b542-39776bbf394f",
   "metadata": {
    "execution": {
     "iopub.execute_input": "2025-01-28T03:35:00.245299Z",
     "iopub.status.busy": "2025-01-28T03:35:00.244299Z",
     "iopub.status.idle": "2025-01-28T03:35:10.652050Z",
     "shell.execute_reply": "2025-01-28T03:35:10.650749Z",
     "shell.execute_reply.started": "2025-01-28T03:35:00.245299Z"
    }
   },
   "outputs": [],
   "source": [
    "from getpass import getpass\n",
    "from itertools import product\n",
    "import pathlib\n",
    "import re\n",
    "import warnings\n",
    "\n",
    "import contextily as cx\n",
    "from crossfire import Client\n",
    "import geobr\n",
    "import geopandas as gpd\n",
    "import ipeadatapy\n",
    "import libpysal.weights as pysal\n",
    "import matplotlib.pyplot as plt\n",
    "import numpy as np\n",
    "import osmnx as ox\n",
    "import pandas as pd\n",
    "import pandana as pdna\n",
    "import partridge as ptg\n",
    "from scipy.stats import zscore\n",
    "from sklearn.neighbors import KernelDensity\n",
    "from shapely.geometry import LineString, Point\n",
    "from shapely.ops import split\n",
    "import seaborn as sns\n",
    "from libpysal.io.fileio import FileIO\n",
    "from tobler.area_weighted import area_interpolate"
   ]
  },
  {
   "cell_type": "markdown",
   "id": "f4b3aec3-bb65-4216-b135-281ca583b4e6",
   "metadata": {},
   "source": [
    "## Segurança Pública"
   ]
  },
  {
   "cell_type": "code",
   "execution_count": null,
   "id": "c0274a43-e25b-444e-bf40-ac4bf0e4dd0c",
   "metadata": {
    "execution": {
     "iopub.execute_input": "2025-01-28T03:35:19.196356Z",
     "iopub.status.busy": "2025-01-28T03:35:19.195359Z",
     "iopub.status.idle": "2025-01-28T03:35:30.890661Z",
     "shell.execute_reply": "2025-01-28T03:35:30.889654Z",
     "shell.execute_reply.started": "2025-01-28T03:35:19.195359Z"
    },
    "tags": []
   },
   "outputs": [],
   "source": [
    "isp1 = pd.read_csv(\n",
    "    '../database/6. Segurança Pública/Pedido_081_2023_part_1.csv',\n",
    "    encoding='latin-1',\n",
    "    sep=';',\n",
    "    )\n",
    "isp2 = pd.read_csv(\n",
    "    '../database/6. Segurança Pública/Pedido_081_2023_part_2.csv',\n",
    "    encoding='latin-1',\n",
    "    sep=';',\n",
    "    )\n",
    "\n",
    "isp = pd.concat([isp1, isp2], ignore_index=True)\n",
    "\n",
    "del isp1, isp2"
   ]
  },
  {
   "cell_type": "code",
   "execution_count": null,
   "id": "fbe1da74-c203-4b57-b368-6099d3ef5e32",
   "metadata": {
    "execution": {
     "iopub.execute_input": "2025-01-28T03:35:30.892662Z",
     "iopub.status.busy": "2025-01-28T03:35:30.891660Z",
     "iopub.status.idle": "2025-01-28T03:35:38.346954Z",
     "shell.execute_reply": "2025-01-28T03:35:38.346954Z",
     "shell.execute_reply.started": "2025-01-28T03:35:30.892662Z"
    }
   },
   "outputs": [],
   "source": [
    "isp = (\n",
    "    isp\n",
    "    .loc[\n",
    "        (isp.local == 'Via pública')\n",
    "        & (isp.titulo_do != 'Encontro de ossada')\n",
    "        #& (isp.ano == 2019)\n",
    "        & ~(isp.titulo_do.str.contains('estupr', case=False))\n",
    "        ]\n",
    "    .assign(\n",
    "        shape_id=lambda x: x.cisp.str.extract(r'(\\d{3}).*').astype(int),\n",
    "        titulo_do=lambda x: np.where(\n",
    "            x.titulo_do.str.contains('roubo|extors|morte|homic', case=False),\n",
    "            'violent_crime',\n",
    "            x.titulo_do,\n",
    "            )\n",
    "        )\n",
    "    .assign(\n",
    "        titulo_do=lambda x: np.where(\n",
    "            x.titulo_do.str.contains('furto', case=False),\n",
    "            'non_violent_crime',\n",
    "            x.titulo_do,\n",
    "            )\n",
    "         )\n",
    "    )"
   ]
  },
  {
   "cell_type": "code",
   "execution_count": null,
   "id": "2a025f14-d1a0-4e8a-9a95-214e10be8282",
   "metadata": {
    "execution": {
     "iopub.execute_input": "2025-01-28T03:35:38.348960Z",
     "iopub.status.busy": "2025-01-28T03:35:38.347960Z",
     "iopub.status.idle": "2025-01-28T03:35:38.373397Z",
     "shell.execute_reply": "2025-01-28T03:35:38.372374Z",
     "shell.execute_reply.started": "2025-01-28T03:35:38.348960Z"
    }
   },
   "outputs": [],
   "source": [
    "isp.head(3)"
   ]
  },
  {
   "cell_type": "code",
   "execution_count": null,
   "id": "4c0e4046-9197-44d1-9b9a-558a18e7d41a",
   "metadata": {
    "execution": {
     "iopub.execute_input": "2025-01-28T03:35:38.374384Z",
     "iopub.status.busy": "2025-01-28T03:35:38.374384Z",
     "iopub.status.idle": "2025-01-28T03:35:38.684148Z",
     "shell.execute_reply": "2025-01-28T03:35:38.683140Z",
     "shell.execute_reply.started": "2025-01-28T03:35:38.374384Z"
    }
   },
   "outputs": [],
   "source": [
    "crime_to_plot = (\n",
    "    isp\n",
    "    .groupby(\n",
    "        ['ano', 'mes', 'shape_id', 'titulo_do']\n",
    "        )\n",
    "    .size()\n",
    "    .round()\n",
    "    .unstack('titulo_do')\n",
    "    .groupby(level='shape_id')\n",
    "    .median()\n",
    "    .astype(int)\n",
    "    .rename_axis('crime_nature', axis='columns')\n",
    "    )"
   ]
  },
  {
   "cell_type": "code",
   "execution_count": null,
   "id": "4fc2438f-b773-4db8-b68a-ec8f9e4b3bed",
   "metadata": {
    "execution": {
     "iopub.execute_input": "2025-01-28T03:35:38.685182Z",
     "iopub.status.busy": "2025-01-28T03:35:38.685182Z",
     "iopub.status.idle": "2025-01-28T03:35:38.693979Z",
     "shell.execute_reply": "2025-01-28T03:35:38.692973Z",
     "shell.execute_reply.started": "2025-01-28T03:35:38.685182Z"
    },
    "tags": []
   },
   "outputs": [],
   "source": [
    "crime_to_plot.head(3)"
   ]
  },
  {
   "cell_type": "code",
   "execution_count": null,
   "id": "d16091dd-34f0-4e46-be4b-1d6d8b346028",
   "metadata": {
    "execution": {
     "iopub.execute_input": "2025-01-28T03:35:38.695013Z",
     "iopub.status.busy": "2025-01-28T03:35:38.695013Z",
     "iopub.status.idle": "2025-01-28T03:35:39.130641Z",
     "shell.execute_reply": "2025-01-28T03:35:39.130641Z",
     "shell.execute_reply.started": "2025-01-28T03:35:38.695013Z"
    },
    "tags": []
   },
   "outputs": [],
   "source": [
    "cisp = gpd.read_file(\n",
    "    '../database/6. Segurança Pública/CISPshp.zip'\n",
    "    )"
   ]
  },
  {
   "cell_type": "code",
   "execution_count": null,
   "id": "27b26cab-eda3-42c1-ad94-cbcd5904b9c7",
   "metadata": {
    "execution": {
     "iopub.execute_input": "2025-01-28T03:35:39.132682Z",
     "iopub.status.busy": "2025-01-28T03:35:39.131683Z",
     "iopub.status.idle": "2025-01-28T03:35:41.373426Z",
     "shell.execute_reply": "2025-01-28T03:35:41.372918Z",
     "shell.execute_reply.started": "2025-01-28T03:35:39.132682Z"
    },
    "tags": []
   },
   "outputs": [],
   "source": [
    "rio = (\n",
    "    geobr\n",
    "    .read_metro_area()\n",
    "    .pipe(lambda x: x.query(\"name_metro == 'RM Rio de Janeiro'\"))\n",
    "    .to_crs(31983)\n",
    "    .buffer(-500).to_frame('rio')\n",
    "    )\n",
    "\n",
    "cisp = (\n",
    "    cisp\n",
    "    .to_crs(epsg=31983)\n",
    "    .sjoin(rio)\n",
    "    .drop_duplicates(subset='dp')\n",
    "    .merge(crime_to_plot, left_on='dp', right_index=True)\n",
    "    )"
   ]
  },
  {
   "cell_type": "code",
   "execution_count": null,
   "id": "cf7f2398-4ba2-4784-8741-2dc6afb696bd",
   "metadata": {
    "execution": {
     "iopub.execute_input": "2025-01-28T03:35:41.376435Z",
     "iopub.status.busy": "2025-01-28T03:35:41.375436Z",
     "iopub.status.idle": "2025-01-28T03:35:41.449626Z",
     "shell.execute_reply": "2025-01-28T03:35:41.449626Z",
     "shell.execute_reply.started": "2025-01-28T03:35:41.376435Z"
    },
    "tags": []
   },
   "outputs": [],
   "source": [
    "cisp.explore('violent_crime', scheme='NaturalBreaks', cmap='RdYlBu_r')"
   ]
  },
  {
   "cell_type": "code",
   "execution_count": null,
   "id": "388fdace-95ca-439c-aae7-281fae18308e",
   "metadata": {
    "execution": {
     "iopub.execute_input": "2025-01-28T03:35:41.451669Z",
     "iopub.status.busy": "2025-01-28T03:35:41.450634Z",
     "iopub.status.idle": "2025-01-28T03:35:42.420005Z",
     "shell.execute_reply": "2025-01-28T03:35:42.420005Z",
     "shell.execute_reply.started": "2025-01-28T03:35:41.451669Z"
    }
   },
   "outputs": [],
   "source": [
    "attractions = gpd.read_file('outputs/S100/total_attractions.gpkg')\n",
    "\n",
    "flow_by_cisp = area_interpolate(\n",
    "    source_df=attractions,\n",
    "    target_df=cisp,\n",
    "    extensive_variables=['fator_expansao']\n",
    "    ).drop(columns='geometry')\n",
    "\n",
    "cisp = (\n",
    "    cisp\n",
    "    .merge(flow_by_cisp, left_index=True, right_index=True)\n",
    "    .assign(\n",
    "        violent_crime=lambda x: x.violent_crime / x.fator_expansao * 100_000,\n",
    "        non_violent_crime=lambda x: x.non_violent_crime / x.fator_expansao * 100_000,\n",
    "        )\n",
    "    )"
   ]
  },
  {
   "cell_type": "code",
   "execution_count": null,
   "id": "f91d0be8-affb-4531-9f96-2d18613b39e0",
   "metadata": {
    "execution": {
     "iopub.execute_input": "2025-01-28T03:35:42.422013Z",
     "iopub.status.busy": "2025-01-28T03:35:42.421047Z",
     "iopub.status.idle": "2025-01-28T03:35:44.853695Z",
     "shell.execute_reply": "2025-01-28T03:35:44.853695Z",
     "shell.execute_reply.started": "2025-01-28T03:35:42.422013Z"
    }
   },
   "outputs": [],
   "source": [
    "crime_by_hex = area_interpolate(\n",
    "    source_df=cisp,\n",
    "    target_df=db,\n",
    "    intensive_variables=['violent_crime', 'non_violent_crime']\n",
    "    ).drop(columns='geometry')\n",
    "\n",
    "db = db.merge(crime_by_hex, left_index=True, right_index=True)"
   ]
  },
  {
   "cell_type": "code",
   "execution_count": null,
   "id": "aec139f6-bb7d-432a-aa0a-5ae94319ab9a",
   "metadata": {
    "execution": {
     "iopub.execute_input": "2025-01-28T03:35:44.855737Z",
     "iopub.status.busy": "2025-01-28T03:35:44.855737Z",
     "iopub.status.idle": "2025-01-28T03:35:54.351211Z",
     "shell.execute_reply": "2025-01-28T03:35:54.350203Z",
     "shell.execute_reply.started": "2025-01-28T03:35:44.855737Z"
    }
   },
   "outputs": [],
   "source": [
    "db.explore('violent_crime', scheme='JenksCaspall', cmap='coolwarm')"
   ]
  },
  {
   "cell_type": "markdown",
   "id": "fee3ad95-3e7e-4691-a993-9394cf50cbfd",
   "metadata": {},
   "source": [
    "## Fogo Cruzado"
   ]
  },
  {
   "cell_type": "raw",
   "id": "1b23eac0-e06b-4c98-8d99-4fe61c46a00f",
   "metadata": {
    "execution": {
     "iopub.execute_input": "2024-12-11T19:26:12.501175Z",
     "iopub.status.busy": "2024-12-11T19:26:12.501175Z",
     "iopub.status.idle": "2024-12-11T19:35:52.987797Z",
     "shell.execute_reply": "2024-12-11T19:35:52.986788Z",
     "shell.execute_reply.started": "2024-12-11T19:26:12.501175Z"
    },
    "scrolled": true
   },
   "source": [
    "shots = client.occurrences(\n",
    "    id_state='b112ffbe-17b3-4ad0-8f2a-2038745d1d14', #RJ\n",
    "    id_cities='d1bf56cc-6d85-4e6a-a5f5-0ab3f4074be3', # Rio de Janeiro\n",
    "    type_occurrence='all',\n",
    "    format='geodf'\n",
    "    )\n",
    "\n",
    "shots = (\n",
    "    shots\n",
    "    .reindex(\n",
    "        columns=[\n",
    "            'id',\n",
    "            'date',\n",
    "            'policeAction',\n",
    "            'agentPresence',\n",
    "            'relatedRecord',\n",
    "            'contextInfo',\n",
    "            'transports',\n",
    "            'victims',\n",
    "            'animalVictims',\n",
    "            'geometry'\n",
    "            ]\n",
    "        )\n",
    "    .assign(\n",
    "        contextInfo=lambda x: x.contextInfo.map(\n",
    "                                    lambda x: x.get('mainReason').get('name')\n",
    "                                    )\n",
    "        )\n",
    "    .to_crs(31983)\n",
    "    )\n",
    "\n",
    "shots.to_file('outputs/S300/fogo_cruzado.gpkg')"
   ]
  },
  {
   "cell_type": "code",
   "execution_count": null,
   "id": "ceba643e-3813-460c-9ced-4a3b124cc216",
   "metadata": {
    "execution": {
     "iopub.execute_input": "2025-01-24T15:20:30.619062Z",
     "iopub.status.busy": "2025-01-24T15:20:30.618063Z",
     "iopub.status.idle": "2025-01-24T15:20:33.248128Z",
     "shell.execute_reply": "2025-01-24T15:20:33.247084Z",
     "shell.execute_reply.started": "2025-01-24T15:20:30.619062Z"
    }
   },
   "outputs": [],
   "source": [
    "shots = (\n",
    "    gpd\n",
    "    .read_file('outputs/S300/fogo_cruzado.gpkg')\n",
    "    .assign(\n",
    "        date=lambda db: pd.to_datetime(db.date)\n",
    "        )\n",
    "    .pipe(\n",
    "        lambda x: x.loc[x.date < '2020-01-01']\n",
    "        )\n",
    "    )\n",
    "    "
   ]
  },
  {
   "cell_type": "markdown",
   "id": "a5c86db0-827f-47c4-b1ab-2abd4da44f3e",
   "metadata": {},
   "source": [
    "### KDE"
   ]
  },
  {
   "cell_type": "code",
   "execution_count": null,
   "id": "d5f98db7-19a4-4bbf-9da4-9887c1e17ec1",
   "metadata": {
    "execution": {
     "iopub.execute_input": "2025-01-24T15:20:33.249094Z",
     "iopub.status.busy": "2025-01-24T15:20:33.249094Z",
     "iopub.status.idle": "2025-01-24T15:20:36.443599Z",
     "shell.execute_reply": "2025-01-24T15:20:36.443599Z",
     "shell.execute_reply.started": "2025-01-24T15:20:33.249094Z"
    },
    "scrolled": true
   },
   "outputs": [],
   "source": [
    "model = KernelDensity(bandwidth=300, kernel='gaussian')\n",
    "fit = model.fit(\n",
    "    X=list(zip(shots.geometry.x, shots.geometry.y)),\n",
    "    )\n",
    "\n",
    "db = (\n",
    "    db\n",
    "    .assign(**{\n",
    "        f'gunshot_kde': lambda df: np.exp(\n",
    "            fit.score_samples(\n",
    "                X=df[['X', 'Y']].to_numpy()\n",
    "                )\n",
    "            )\n",
    "        })    \n",
    "    )\n"
   ]
  },
  {
   "cell_type": "code",
   "execution_count": null,
   "id": "e38795f7-05be-4425-87f4-1ae5c4e3ca83",
   "metadata": {
    "execution": {
     "iopub.execute_input": "2025-01-24T15:20:36.445605Z",
     "iopub.status.busy": "2025-01-24T15:20:36.445605Z",
     "iopub.status.idle": "2025-01-24T15:20:46.084599Z",
     "shell.execute_reply": "2025-01-24T15:20:46.083590Z",
     "shell.execute_reply.started": "2025-01-24T15:20:36.445605Z"
    }
   },
   "outputs": [],
   "source": [
    "db.explore('gunshot_kde', cmap='inferno', scheme='headtailbreaks', prefer_canvas=True)"
   ]
  },
  {
   "cell_type": "code",
   "execution_count": null,
   "id": "2497c4ac-8235-4cf7-964c-c875bcbfde85",
   "metadata": {},
   "outputs": [],
   "source": []
  }
 ],
 "metadata": {
  "kernelspec": {
   "display_name": "Python 3",
   "language": "python",
   "name": "python3"
  },
  "language_info": {
   "codemirror_mode": {
    "name": "ipython",
    "version": 3
   },
   "file_extension": ".py",
   "mimetype": "text/x-python",
   "name": "python",
   "nbconvert_exporter": "python",
   "pygments_lexer": "ipython3",
   "version": "3.11.11"
  }
 },
 "nbformat": 4,
 "nbformat_minor": 5
}
