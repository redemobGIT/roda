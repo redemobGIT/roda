{
 "cells": [
  {
   "cell_type": "markdown",
   "id": "b8312cfa-8097-4df2-adb4-c4ced77c3fc7",
   "metadata": {},
   "source": [
    "# Direcionamentos\n",
    "\n",
    "- Primeiro, dar uma geral nas bibliotecas e documentação\n",
    "- Dar uma passada na Cartilha de GTFS que está na tabela de atividades e, eventualmente, na [documentação oficial](https://gtfs.org/documentation/schedule/reference/)\n",
    "- Implementar sequência lógica das análises\n",
    "    - Separar bem o notebook como mostrado em títulos e subtitulos etc\n",
    "    - Acrescentar textos explicativos breves\n",
    "    - Pode ajudar ver [as postagens no Medium de Santiago Toso](https://medium.com/swlh/python-for-transit-get-the-most-out-of-your-gtfs-with-this-python-package-44d0b732f657), mas desde a postagem houve leves alterações no código-fonte\n",
    "    - Usar [GTFS do Rio de Janeiro](https://www.data.rio/datasets/gtfs-do-rio-de-janeiro/about)\n",
    "        - O GTFS pode estar \"frequency-based\", o que pode exigir que seja feito um [processamento preliminar](https://gist.github.com/invisiblefunnel/6c9f3a9b537d3f0ad192c24777b6ae57)"
   ]
  },
  {
   "cell_type": "markdown",
   "id": "7886c2c2-ad14-4fbd-b24e-992c718aae10",
   "metadata": {
    "execution": {
     "iopub.execute_input": "2024-10-18T14:56:56.500261Z",
     "iopub.status.busy": "2024-10-18T14:56:56.500261Z",
     "iopub.status.idle": "2024-10-18T14:56:56.511331Z",
     "shell.execute_reply": "2024-10-18T14:56:56.511331Z",
     "shell.execute_reply.started": "2024-10-18T14:56:56.500261Z"
    }
   },
   "source": [
    "# Leitura e Análises Preliminares"
   ]
  },
  {
   "cell_type": "markdown",
   "id": "dafe604c-b9f3-4916-95e0-550c9e1a1d35",
   "metadata": {},
   "source": [
    "Inclui leitura de arquivos GTFS utilizando [Partridge](https://github.com/remix/partridge) e [GTFS Functions](https://github.com/Bondify/gtfs_functions)\n",
    "\n",
    "Autor: [Rede Mob](https://www.redemob.com.br/)"
   ]
  },
  {
   "cell_type": "code",
   "execution_count": 1,
   "id": "276d1bcf-73cf-4fe1-b40e-f8f3d3b809a9",
   "metadata": {
    "execution": {
     "iopub.execute_input": "2025-04-30T01:22:28.368348Z",
     "iopub.status.busy": "2025-04-30T01:22:28.368348Z",
     "iopub.status.idle": "2025-04-30T01:22:28.378381Z",
     "shell.execute_reply": "2025-04-30T01:22:28.377366Z",
     "shell.execute_reply.started": "2025-04-30T01:22:28.368348Z"
    }
   },
   "outputs": [],
   "source": [
    "# Desativa alguns avisos e a impressão de log de\n",
    "# eventos (registros de atividades) das bibliotecas\n",
    "# utilizadas. GTFS functions, em particular pode ser\n",
    "# bem \"verborrágica\". Experimente não rodar essa\n",
    "# célula para ver o que acontece. O código ainda\n",
    "# funcionará, mas com a impressão de algumas mensagens\n",
    "# adicionais eventualmente.\n",
    "\n",
    "import warnings\n",
    "warnings.filterwarnings(\"ignore\")\n",
    "\n",
    "import logging, sys\n",
    "logging.disable(sys.maxsize)"
   ]
  },
  {
   "cell_type": "markdown",
   "id": "2703471e-98d5-4e3c-82b2-82271efc0326",
   "metadata": {},
   "source": [
    "# Frequency to equivalent trips"
   ]
  },
  {
   "cell_type": "code",
   "execution_count": 2,
   "id": "58383a63-f9b7-4825-b155-3def7b40b4fb",
   "metadata": {
    "execution": {
     "iopub.execute_input": "2025-04-30T01:22:28.379376Z",
     "iopub.status.busy": "2025-04-30T01:22:28.379376Z",
     "iopub.status.idle": "2025-04-30T01:22:30.677433Z",
     "shell.execute_reply": "2025-04-30T01:22:30.676900Z",
     "shell.execute_reply.started": "2025-04-30T01:22:28.379376Z"
    },
    "jupyter": {
     "source_hidden": true
    }
   },
   "outputs": [
    {
     "ename": "ValueError",
     "evalue": "File or path not found: gtfs_rio_2014_moovit.zip",
     "output_type": "error",
     "traceback": [
      "\u001b[31m---------------------------------------------------------------------------\u001b[39m",
      "\u001b[31mValueError\u001b[39m                                Traceback (most recent call last)",
      "\u001b[36mCell\u001b[39m\u001b[36m \u001b[39m\u001b[32mIn[2]\u001b[39m\u001b[32m, line 20\u001b[39m\n\u001b[32m     16\u001b[39m     \u001b[38;5;28;01mreturn\u001b[39;00m \u001b[33mf\u001b[39m\u001b[33m'\u001b[39m\u001b[38;5;132;01m{\u001b[39;00mtime[\u001b[32m0\u001b[39m]\u001b[38;5;132;01m}\u001b[39;00m\u001b[33m:\u001b[39m\u001b[38;5;132;01m{\u001b[39;00mtime[\u001b[32m1\u001b[39m]\u001b[38;5;132;01m}\u001b[39;00m\u001b[33m:\u001b[39m\u001b[38;5;132;01m{\u001b[39;00mtime[\u001b[32m2\u001b[39m]\u001b[38;5;132;01m}\u001b[39;00m\u001b[33m'\u001b[39m\n\u001b[32m     18\u001b[39m inpath = \u001b[33m\"\u001b[39m\u001b[33mgtfs_rio_2014_moovit.zip\u001b[39m\u001b[33m\"\u001b[39m\n\u001b[32m---> \u001b[39m\u001b[32m20\u001b[39m feed = ptg.load_feed(inpath)\n\u001b[32m     22\u001b[39m trips_by_id = {}\n\u001b[32m     23\u001b[39m \u001b[38;5;28;01mfor\u001b[39;00m _, trip \u001b[38;5;129;01min\u001b[39;00m feed.trips.iterrows():\n",
      "\u001b[36mFile \u001b[39m\u001b[32m~\\anaconda3\\envs\\roda\\Lib\\site-packages\\partridge\\readers.py:44\u001b[39m, in \u001b[36mload_feed\u001b[39m\u001b[34m(path, view, config)\u001b[39m\n\u001b[32m     42\u001b[39m     feed = _unpack_feed(path, view, config)\n\u001b[32m     43\u001b[39m \u001b[38;5;28;01melse\u001b[39;00m:\n\u001b[32m---> \u001b[39m\u001b[32m44\u001b[39m     \u001b[38;5;28;01mraise\u001b[39;00m \u001b[38;5;167;01mValueError\u001b[39;00m(\u001b[33m\"\u001b[39m\u001b[33mFile or path not found: \u001b[39m\u001b[38;5;132;01m{}\u001b[39;00m\u001b[33m\"\u001b[39m.format(path))\n\u001b[32m     46\u001b[39m \u001b[38;5;28;01mreturn\u001b[39;00m feed\n",
      "\u001b[31mValueError\u001b[39m: File or path not found: gtfs_rio_2014_moovit.zip"
     ]
    }
   ],
   "source": [
    "from copy import copy\n",
    "import math\n",
    "\n",
    "from networkx.utils import pairwise\n",
    "import numpy as np\n",
    "import pandas as pd\n",
    "import partridge as ptg\n",
    "\n",
    "\n",
    "def seconds_to_gtfs_time(total_seconds):\n",
    "    if math.isnan(total_seconds):\n",
    "        return total_seconds  # TODO: What to do here?\n",
    "    minutes, seconds = divmod(total_seconds, 60)\n",
    "    hours, minutes = divmod(minutes, 60)\n",
    "    time = list(map(lambda x: str(x).rjust(2, '0'), [int(hours), int(minutes), int(seconds)]))\n",
    "    return f'{time[0]}:{time[1]}:{time[2]}'\n",
    "\n",
    "inpath = \"gtfs_rio_2014_moovit.zip\"\n",
    "\n",
    "feed = ptg.load_feed(inpath)\n",
    "\n",
    "trips_by_id = {}\n",
    "for _, trip in feed.trips.iterrows():\n",
    "    trips_by_id[trip.trip_id] = dict(trip)\n",
    "\n",
    "trip_patterns = {}\n",
    "for trip_id, stop_times in feed.stop_times.sort_values(\"stop_sequence\").groupby(\"trip_id\"):\n",
    "    stops = tuple(stop_times.stop_id)\n",
    "    mintime = stop_times.arrival_time.min()\n",
    "    times = tuple(t - mintime for t in stop_times.arrival_time)\n",
    "    trip_patterns[trip_id] = (stops, times)\n",
    "\n",
    "freq_trips = []\n",
    "for _, freq in feed.frequencies.iterrows():\n",
    "    window_start = int(freq.start_time)\n",
    "    window_end = int(freq.end_time)\n",
    "    for start in range(window_start, window_end, freq.headway_secs):\n",
    "        freq_trips.append({\n",
    "            \"trip_id\": freq.trip_id,\n",
    "            \"start\": start,\n",
    "        })\n",
    "\n",
    "new_trips = []\n",
    "new_stop_times = []\n",
    "for i, ftrip in enumerate(freq_trips, start=1):\n",
    "    new_trips.append(copy(trips_by_id[ftrip[\"trip_id\"]]))\n",
    "    new_trips[-1][\"trip_id\"] = i # override trip_id\n",
    "\n",
    "    stops, times = trip_patterns[ftrip[\"trip_id\"]]\n",
    "    for j in range(len(stops)):\n",
    "        t = seconds_to_gtfs_time(times[j] + ftrip[\"start\"])\n",
    "        new_stop_times.append({\n",
    "            \"trip_id\": i,\n",
    "            \"stop_id\": stops[j],\n",
    "            \"arrival_time\": t,\n",
    "            \"departure_time\": t,\n",
    "            \"stop_sequence\": j + 1,\n",
    "        })\n",
    "\n",
    "trips_df = pd.DataFrame(new_trips)\n",
    "stop_times_df = pd.DataFrame(new_stop_times)\n",
    "empty_frequencies_df = ptg.utilities.empty_df()\n",
    "\n",
    "new_feed = ptg.load_raw_feed(inpath)\n",
    "new_feed.set(\"trips.txt\", trips_df)\n",
    "new_feed.set(\"stop_times.txt\", stop_times_df)\n",
    "new_feed.set(\"frequencies.txt\", empty_frequencies_df) # we don't want frequencies.txt\n",
    "\n",
    "ptg.writers.write_feed_dangerously(new_feed, \"gtfs_rio_trip_based.zip\")\n",
    "\n"
   ]
  },
  {
   "cell_type": "code",
   "execution_count": null,
   "id": "01c1aa46-0d8f-4e63-b687-989522c8404b",
   "metadata": {},
   "outputs": [],
   "source": []
  },
  {
   "cell_type": "code",
   "execution_count": null,
   "id": "7e147371-33c0-47a9-afd6-98e2922476d3",
   "metadata": {
    "execution": {
     "iopub.status.busy": "2025-04-30T01:22:30.678471Z",
     "iopub.status.idle": "2025-04-30T01:22:30.678471Z",
     "shell.execute_reply": "2025-04-30T01:22:30.678471Z",
     "shell.execute_reply.started": "2025-04-30T01:22:30.678471Z"
    }
   },
   "outputs": [],
   "source": [
    "import partridge as ptg\n",
    "feed = ptg.load_geo_feed('gtfs_rio_2014_moovit.zip')"
   ]
  },
  {
   "cell_type": "code",
   "execution_count": null,
   "id": "6ece4780-713a-4fc3-aa91-bfb3338f466d",
   "metadata": {
    "execution": {
     "iopub.status.busy": "2025-04-30T01:22:30.680439Z",
     "iopub.status.idle": "2025-04-30T01:22:30.680439Z",
     "shell.execute_reply": "2025-04-30T01:22:30.680439Z",
     "shell.execute_reply.started": "2025-04-30T01:22:30.680439Z"
    }
   },
   "outputs": [],
   "source": [
    "feed.stop_times"
   ]
  },
  {
   "cell_type": "code",
   "execution_count": null,
   "id": "dd79bcdf-7010-45ae-89c2-f5eff98df26a",
   "metadata": {},
   "outputs": [],
   "source": []
  },
  {
   "cell_type": "code",
   "execution_count": null,
   "id": "9949eb08-8d96-491e-8421-53ef2635f7b8",
   "metadata": {},
   "outputs": [],
   "source": []
  },
  {
   "cell_type": "markdown",
   "id": "05389e84-d32f-461b-b0fd-07a5bdbfa702",
   "metadata": {},
   "source": [
    "# GTFS Functions"
   ]
  },
  {
   "cell_type": "markdown",
   "id": "ab3a8fd0-2089-4e3e-b925-26764da593c3",
   "metadata": {},
   "source": [
    "Cosulte o [repositório](https://github.com/Bondify/gtfs_functions) da biblioteca para maior detalhamento dos procedimentos aqui utilizados. Importante salientar que, lá, para algumas das visualizações de mapas é utilizada a biblioteca [Kepler](https://kepler.gl/). Aqui, utilizamos o próprio [geopandas](https://geopandas.org/en/stable/) para produzir os mapas porque a Kepler pode não funcionar bem no jupyter lab, aqui utilizado neste exemplo."
   ]
  },
  {
   "cell_type": "code",
   "execution_count": 3,
   "id": "fbfffe47-d533-4625-9518-3dfb98e81f4c",
   "metadata": {
    "execution": {
     "iopub.execute_input": "2025-04-30T01:22:36.706820Z",
     "iopub.status.busy": "2025-04-30T01:22:36.706820Z",
     "iopub.status.idle": "2025-04-30T01:22:37.707560Z",
     "shell.execute_reply": "2025-04-30T01:22:37.707049Z",
     "shell.execute_reply.started": "2025-04-30T01:22:36.706820Z"
    }
   },
   "outputs": [
    {
     "ename": "ImportError",
     "evalue": "cannot import name 'geo_to_h3' from 'h3' (C:\\Users\\brand\\anaconda3\\envs\\roda\\Lib\\site-packages\\h3\\__init__.py)",
     "output_type": "error",
     "traceback": [
      "\u001b[31m---------------------------------------------------------------------------\u001b[39m",
      "\u001b[31mImportError\u001b[39m                               Traceback (most recent call last)",
      "\u001b[36mCell\u001b[39m\u001b[36m \u001b[39m\u001b[32mIn[3]\u001b[39m\u001b[32m, line 1\u001b[39m\n\u001b[32m----> \u001b[39m\u001b[32m1\u001b[39m \u001b[38;5;28;01mfrom\u001b[39;00m\u001b[38;5;250m \u001b[39m\u001b[34;01mgtfs_functions\u001b[39;00m\u001b[38;5;250m \u001b[39m\u001b[38;5;28;01mimport\u001b[39;00m Feed\n\u001b[32m      2\u001b[39m \u001b[38;5;28;01mfrom\u001b[39;00m\u001b[38;5;250m \u001b[39m\u001b[34;01mgtfs_functions\u001b[39;00m\u001b[34;01m.\u001b[39;00m\u001b[34;01mgtfs_plots\u001b[39;00m\u001b[38;5;250m \u001b[39m\u001b[38;5;28;01mimport\u001b[39;00m map_gdf\n\u001b[32m      4\u001b[39m \u001b[38;5;66;03m# Biblioteca de visualizações\u001b[39;00m\n",
      "\u001b[36mFile \u001b[39m\u001b[32m~\\anaconda3\\envs\\roda\\Lib\\site-packages\\gtfs_functions\\__init__.py:1\u001b[39m\n\u001b[32m----> \u001b[39m\u001b[32m1\u001b[39m \u001b[38;5;28;01mfrom\u001b[39;00m\u001b[38;5;250m \u001b[39m\u001b[34;01mgtfs_functions\u001b[39;00m\u001b[34;01m.\u001b[39;00m\u001b[34;01mgtfs_functions\u001b[39;00m\u001b[38;5;250m \u001b[39m\u001b[38;5;28;01mimport\u001b[39;00m Feed\n",
      "\u001b[36mFile \u001b[39m\u001b[32m~\\anaconda3\\envs\\roda\\Lib\\site-packages\\gtfs_functions\\gtfs_functions.py:15\u001b[39m\n\u001b[32m     13\u001b[39m \u001b[38;5;28;01mfrom\u001b[39;00m\u001b[38;5;250m \u001b[39m\u001b[34;01mitertools\u001b[39;00m\u001b[38;5;250m \u001b[39m\u001b[38;5;28;01mimport\u001b[39;00m permutations, chain\n\u001b[32m     14\u001b[39m \u001b[38;5;28;01mfrom\u001b[39;00m\u001b[38;5;250m \u001b[39m\u001b[34;01mshapely\u001b[39;00m\u001b[38;5;250m \u001b[39m\u001b[38;5;28;01mimport\u001b[39;00m distance\n\u001b[32m---> \u001b[39m\u001b[32m15\u001b[39m \u001b[38;5;28;01mfrom\u001b[39;00m\u001b[38;5;250m \u001b[39m\u001b[34;01mh3\u001b[39;00m\u001b[38;5;250m \u001b[39m\u001b[38;5;28;01mimport\u001b[39;00m geo_to_h3, k_ring\n\u001b[32m     16\u001b[39m \u001b[38;5;28;01mfrom\u001b[39;00m\u001b[38;5;250m \u001b[39m\u001b[34;01mtime\u001b[39;00m\u001b[38;5;250m \u001b[39m\u001b[38;5;28;01mimport\u001b[39;00m time\n\u001b[32m     17\u001b[39m \u001b[38;5;28;01mimport\u001b[39;00m\u001b[38;5;250m \u001b[39m\u001b[34;01mboto3\u001b[39;00m\n",
      "\u001b[31mImportError\u001b[39m: cannot import name 'geo_to_h3' from 'h3' (C:\\Users\\brand\\anaconda3\\envs\\roda\\Lib\\site-packages\\h3\\__init__.py)"
     ]
    }
   ],
   "source": [
    "from gtfs_functions import Feed\n",
    "from gtfs_functions.gtfs_plots import map_gdf\n",
    "\n",
    "# Biblioteca de visualizações\n",
    "import plotly.graph_objects as go\n",
    "import plotly.express as px"
   ]
  },
  {
   "cell_type": "code",
   "execution_count": null,
   "id": "c93a14ff-797e-44ab-ae30-2b5598f4cd3c",
   "metadata": {
    "execution": {
     "iopub.status.busy": "2025-04-29T14:08:06.059436Z",
     "iopub.status.idle": "2025-04-29T14:08:06.060462Z",
     "shell.execute_reply": "2025-04-29T14:08:06.060462Z",
     "shell.execute_reply.started": "2025-04-29T14:08:06.060462Z"
    }
   },
   "outputs": [],
   "source": [
    "# Leitura do arquivo GTFS\n",
    "feed = Feed(\n",
    "    gtfs_path='gtfs_rio_trip_based.zip',\n",
    "    time_windows=[0, 6, 9, 15, 19, 22, 24],\n",
    "    busiest_date=True,\n",
    "    )"
   ]
  },
  {
   "cell_type": "code",
   "execution_count": null,
   "id": "084f9f52-880d-49b9-80cc-9c25f8f97412",
   "metadata": {
    "execution": {
     "iopub.status.busy": "2025-04-29T14:08:06.061428Z",
     "iopub.status.idle": "2025-04-29T14:08:06.061428Z",
     "shell.execute_reply": "2025-04-29T14:08:06.061428Z",
     "shell.execute_reply.started": "2025-04-29T14:08:06.061428Z"
    }
   },
   "outputs": [],
   "source": [
    "# Calcula o tempo entre veículos\n",
    "# para cada ponto de parada\n",
    "stop_freq = feed.stops_freq\n",
    "\n",
    "stop_freq.head()"
   ]
  },
  {
   "cell_type": "code",
   "execution_count": null,
   "id": "d75a436d-dacc-4008-a6da-6428b019e476",
   "metadata": {
    "execution": {
     "iopub.status.busy": "2025-04-29T14:08:06.066429Z",
     "iopub.status.idle": "2025-04-29T14:08:06.066429Z",
     "shell.execute_reply": "2025-04-29T14:08:06.066429Z",
     "shell.execute_reply.started": "2025-04-29T14:08:06.066429Z"
    }
   },
   "outputs": [],
   "source": [
    "# Sentido das viagens: sentido centro, p. ex.\n",
    "condition_dir = stop_freq.direction_id == 0\n",
    "\n",
    "# Janela horária da análise\n",
    "condition_window = stop_freq.window == '6:00-9:00'\n",
    "\n",
    "# Filtrando os dados de acordo com sentido e janela horária\n",
    "gdf = stop_freq.loc[(condition_dir & condition_window),:].reset_index()\n",
    "\n",
    "# Função de mapeamento da biblioteca GTFS Functions\n",
    "map_gdf(\n",
    "    # Base com viagens filtradas\n",
    "    gdf=gdf, \n",
    "    # Coluna com número de viagens por ponto\n",
    "    variable='ntrips', \n",
    "    # Agrupando a quantidade de viagens em intervalos\n",
    "    # para visualuzação no mapa temático\n",
    "    breaks=[10, 20, 30, 40, 120, 200],\n",
    "    # Cores de cada intervalo\n",
    "    colors=[\"#d13870\", \"#e895b3\" ,'#55d992', '#3ab071', '#0e8955','#066a40'], \n",
    "    tooltip_var=['min_per_trip'] , \n",
    "    tooltip_labels=['Frequency: '],   \n",
    "    )"
   ]
  },
  {
   "cell_type": "code",
   "execution_count": null,
   "id": "0bd3c788-415c-4768-9028-c50ac190736e",
   "metadata": {
    "execution": {
     "iopub.status.busy": "2025-04-29T14:08:06.068428Z",
     "iopub.status.idle": "2025-04-29T14:08:06.068428Z",
     "shell.execute_reply": "2025-04-29T14:08:06.068428Z",
     "shell.execute_reply.started": "2025-04-29T14:08:06.068428Z"
    }
   },
   "outputs": [],
   "source": [
    "# Cálculo das frequências por linha e trecho\n",
    "segments_freq = feed.segments_freq\n",
    "\n",
    "segments_freq.head(3)"
   ]
  },
  {
   "cell_type": "code",
   "execution_count": null,
   "id": "aa535fdf-a3c4-43ea-9459-a337b904a363",
   "metadata": {
    "execution": {
     "iopub.status.busy": "2025-04-29T14:08:06.069438Z",
     "iopub.status.idle": "2025-04-29T14:08:06.069438Z",
     "shell.execute_reply": "2025-04-29T14:08:06.069438Z",
     "shell.execute_reply.started": "2025-04-29T14:08:06.069438Z"
    }
   },
   "outputs": [],
   "source": [
    "# Filtragem\n",
    "mask = (\n",
    "    (segments_freq.route_id == 'ALL_LINES')\n",
    "    & (segments_freq.window == '15:00-19:00')\n",
    "    )\n",
    "\n",
    "gdf = segments_freq.loc[mask, :].reset_index()\n",
    "\n",
    "# Construção do mapa\n",
    "(\n",
    "    gdf\n",
    "    .sort_values('min_per_trip')\n",
    "    .explore(\n",
    "        column='min_per_trip',\n",
    "        cmap='coolwarm',\n",
    "        scheme='UserDefined',\n",
    "        tiles='Carto DB positron',\n",
    "        classification_kwds={\n",
    "            'bins': [15, 30, 45, 60] ,       \n",
    "            }\n",
    "        )\n",
    "    )"
   ]
  },
  {
   "cell_type": "code",
   "execution_count": null,
   "id": "6019c0e8-e645-4fa5-8237-6a8aa8e59e93",
   "metadata": {
    "execution": {
     "iopub.status.busy": "2025-04-29T14:08:06.071442Z",
     "iopub.status.idle": "2025-04-29T14:08:06.071442Z",
     "shell.execute_reply": "2025-04-29T14:08:06.071442Z",
     "shell.execute_reply.started": "2025-04-29T14:08:06.071442Z"
    }
   },
   "outputs": [],
   "source": [
    "# Cálculo das velocidades médias por trecho\n",
    "speeds = feed.avg_speeds\n",
    "\n",
    "speeds.head()"
   ]
  },
  {
   "cell_type": "code",
   "execution_count": null,
   "id": "8093ce2e-5175-421c-a23a-7bd0d7f5dd7d",
   "metadata": {
    "execution": {
     "iopub.status.busy": "2025-04-29T14:08:06.073440Z",
     "iopub.status.idle": "2025-04-29T14:08:06.074428Z",
     "shell.execute_reply": "2025-04-29T14:08:06.074428Z",
     "shell.execute_reply.started": "2025-04-29T14:08:06.074428Z"
    }
   },
   "outputs": [],
   "source": [
    "# Filtragem\n",
    "mask = (\n",
    "    (speeds.route_id == 'ALL_LINES')\n",
    "    & (speeds.window == '6:00-9:00')\n",
    "    )\n",
    "\n",
    "gdf = speeds.loc[mask, :].reset_index()\n",
    "\n",
    "# Construção do mapa\n",
    "(\n",
    "    gdf\n",
    "    .sort_values('speed_kmh')\n",
    "    .explore(\n",
    "        column='speed_kmh',\n",
    "        cmap='coolwarm_r',\n",
    "        scheme='NaturalBreaks',\n",
    "        tiles='Carto DB positron'\n",
    "        )\n",
    "    )"
   ]
  },
  {
   "cell_type": "code",
   "execution_count": null,
   "id": "e5f100dc-368a-4f9e-909a-6fd456e1444d",
   "metadata": {
    "execution": {
     "iopub.status.busy": "2025-04-29T14:08:06.075441Z",
     "iopub.status.idle": "2025-04-29T14:08:06.076429Z",
     "shell.execute_reply": "2025-04-29T14:08:06.076429Z",
     "shell.execute_reply.started": "2025-04-29T14:08:06.075441Z"
    }
   },
   "outputs": [],
   "source": [
    "# Mapa de calor das velocidades ao longo do itinerário:\n",
    "# Visualização das velocidades entre cada um dos pontos\n",
    "# parada da linha\n",
    "\n",
    "# Filtragem\n",
    "mask = (speeds.direction_id == 1) & (speeds.route_name == '76 Hall/Greenburg')\n",
    "dir_0 = speeds.loc[mask].sort_values(by='stop_sequence') \n",
    "\n",
    "# Perfil de velocidades ao longo de todas\n",
    "# as janelas horárias\n",
    "dir_0['hour'] = dir_0.window.apply(lambda x: int(x.split(':')[0]))\n",
    "dir_0 = dir_0.sort_values(by=['hour', 'stop_sequence'], ascending=True)\n",
    "\n",
    "fig = go.Figure(\n",
    "    data=go.Heatmap(\n",
    "        z=dir_0.speed_kmh, y=dir_0.start_stop_name, x=dir_0.window,\n",
    "        hoverongaps = False, colorscale=px.colors.colorbrewer.RdYlBu,\n",
    "        reversescale=False\n",
    "        )\n",
    "    )\n",
    "\n",
    "fig.update_yaxes(title_text='Nome do Ponto de Parada', autorange='reversed')\n",
    "fig.update_xaxes(title_text='Janela Horária', side='top')\n",
    "fig.update_layout(showlegend=False, height=600, width=1000,\n",
    "                 title='Mapa de calor de velocidades por direção e hora do dia')\n",
    "\n",
    "fig.show()"
   ]
  },
  {
   "cell_type": "markdown",
   "id": "df884fde-09d7-4927-a366-5531adaccb54",
   "metadata": {},
   "source": [
    "# Exercício\n",
    "\n",
    "-> Pra essa primeira semana, ignorar esta parte"
   ]
  },
  {
   "cell_type": "markdown",
   "id": "8994a00c-9729-488d-8827-6df84cb24592",
   "metadata": {},
   "source": [
    "Objetivo: Realizar uma análise exploratória e diagnóstica da estrutura e cobertura do sistema de transporte público do Rio de Janeiro a partir de dados GTFS (General Transit Feed Specification), utilizando ferramentas de análise espacial e processamento de redes.\n",
    "\n",
    "Contexto:\n",
    "\n",
    "Dados no formato GTFS representam informações detalhadas sobre a operação de sistemas de transporte público, como linhas, horários, trajetos, paradas e frequências. Ao interpretar esses dados espacialmente, podemos avaliar a cobertura, acessibilidade, redundância e conectividade das redes de transporte, além de detectar gargalos e áreas mal atendidas.\n",
    "\n",
    "Neste exercício, você irá utilizar o conjunto GTFS da cidade do Rio de Janeiro para responder perguntas como:\n",
    "\n",
    "    Quais áreas da cidade são melhor atendidas por transporte público?\n",
    "\n",
    "    Existe sobreposição entre linhas ou concentração excessiva em certas zonas?\n",
    "\n",
    "    Quais regiões têm maior tempo médio de espera ou menor frequência de serviço?\n",
    "\n",
    "    Onde estão os principais gargalos da rede?\n",
    "\n",
    "    Como está a distribuição das viagens ao longo do dia? Quais os horários de pico?\n",
    "\n",
    "Você poderá explorar os dados usando a biblioteca gtfs_functions, que fornece ferramentas práticas para manipulação, visualização e análise de feeds GTFS. Além disso, outras bibliotecas úteis incluem:\n",
    "\n",
    "    geopandas: manipulação espacial de paradas e trajetos;\n",
    "\n",
    "    networkx: análise da rede de conexões entre paradas;\n",
    "\n",
    "    matplotlib / contextily: visualizações georreferenciadas;\n",
    "\n",
    "    pandas: operações tabulares nos dados do GTFS;\n",
    "\n",
    "    PySAL: análises espaciais complementares (ex: autocorrelação geográfica).\n",
    "\n",
    "→ Dada a estrutura do GTFS doRio, é possível que, antes de usar a GTFS Functions você precise primeiro processar o dado conforme explicado [aqui](https://gist.github.com/invisiblefunnel/6c9f3a9b537d3f0ad192c24777b6ae57)."
   ]
  },
  {
   "cell_type": "code",
   "execution_count": null,
   "id": "dcc72751-14d6-4c9b-ae7e-c5c9f7073e99",
   "metadata": {},
   "outputs": [],
   "source": []
  }
 ],
 "metadata": {
  "kernelspec": {
   "display_name": "roda",
   "language": "python",
   "name": "roda"
  },
  "language_info": {
   "codemirror_mode": {
    "name": "ipython",
    "version": 3
   },
   "file_extension": ".py",
   "mimetype": "text/x-python",
   "name": "python",
   "nbconvert_exporter": "python",
   "pygments_lexer": "ipython3",
   "version": "3.11.11"
  }
 },
 "nbformat": 4,
 "nbformat_minor": 5
}
