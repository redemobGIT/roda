{
 "cells": [
  {
   "cell_type": "markdown",
   "id": "f4497ae5-1070-4d80-be52-84ea839a1f6c",
   "metadata": {},
   "source": [
    "# Distribuições Territoriais"
   ]
  },
  {
   "cell_type": "markdown",
   "id": "80eb4e52-0708-43f4-b079-46fbaeefebb4",
   "metadata": {},
   "source": [
    "Esta seção constrói mapas básicos das áreas de estudo: as cidades de Belo Horizonte, Rio de Janeiro e São Paulo. Especificamente, serão consolidadas e apresentadas as distribuições territoriais de variáveis demográficas e socioeconômicas de interesse. Adicionalmente, há o complemento de atributos territoriais que entende-se que são, também, variáveis explicativas. Especificamente, o foco estará, preliminarmente, nas seguintes variáveis, as quais serão elaboradas em maior profundidade mais à frente.\n",
    "\n",
    "- Contagens populacionais\n",
    "- Rendimentos médios\n",
    "- Contagens de postos de trabalho\n",
    "- Índice de bem estar urbano\n",
    "- Medidas geométricas e topológicas da malha de vias caminháveis\n",
    "\n",
    "Os itens que seguem tratam de detalhar os passos metodológicos utilizados, o embasamento teórico-conceitual (ou empírico) que é subjacente a esses passos, bem como as fontes de dados. Ainda, logo de início estão listadas as bibliotecas em Python que dão suporte a todo o processo. Maiores detalhes a respeito do funcionamento dessas bibliotecas são dados na medida do necessário. \n",
    "\n",
    "Os dados consolidados serão apresentados em formato de mapas (estáticos) e salvos para uso nas etapas posteriores do artigo. Análises espaciais e estat;isticas mais aprofundadas serão conteúdo de scripts mais à frente. De particular interesse será verificar a articulação entre as porções do território de cada cidade, uma vez que esses fluxos sejam confrontados com os fluxos e as infraestruturas de transporte motorizado."
   ]
  },
  {
   "cell_type": "markdown",
   "id": "d4dcce14-11df-4b6b-93c3-13a4716226a1",
   "metadata": {},
   "source": [
    "# Procedimentos Preliminares"
   ]
  },
  {
   "cell_type": "markdown",
   "id": "38f0a81e-9ce3-4c6e-a73b-b2fefc56b77c",
   "metadata": {},
   "source": [
    "## Bibliotecas"
   ]
  },
  {
   "cell_type": "code",
   "execution_count": 2,
   "id": "7e0dd925-51d8-4db8-8e90-5f7326842b0d",
   "metadata": {
    "execution": {
     "iopub.execute_input": "2025-04-29T21:56:30.036302Z",
     "iopub.status.busy": "2025-04-29T21:56:30.035319Z",
     "iopub.status.idle": "2025-04-29T21:56:36.030110Z",
     "shell.execute_reply": "2025-04-29T21:56:36.030110Z",
     "shell.execute_reply.started": "2025-04-29T21:56:30.036302Z"
    }
   },
   "outputs": [],
   "source": [
    "import pathlib\n",
    "\n",
    "import contextily as ctx\n",
    "import basedosdados as bd\n",
    "import geobr\n",
    "import geopandas as gpd\n",
    "import matplotlib.pyplot as plt\n",
    "from matplotlib.legend import Legend\n",
    "from matplotlib.lines import Line2D\n",
    "from matplotlib_scalebar.scalebar import ScaleBar\n",
    "import mapclassify\n",
    "import numpy as np\n",
    "import pandas as pd\n",
    "import seaborn as sns\n",
    "from shapely.affinity import scale\n",
    "from statsmodels.stats.weightstats import DescrStatsW\n",
    "from getpass import getpass\n",
    "from tobler.area_weighted import area_interpolate\n",
    "from tobler.util import h3fy\n",
    "\n"
   ]
  },
  {
   "cell_type": "markdown",
   "id": "3f6dbcef-2f5f-46e1-b8ee-4b0f4e59187b",
   "metadata": {},
   "source": [
    "## Parâmetros de Base"
   ]
  },
  {
   "cell_type": "code",
   "execution_count": 3,
   "id": "ce35a2d7-b36b-427c-89fa-328bc3fdb71e",
   "metadata": {
    "execution": {
     "iopub.execute_input": "2025-04-07T00:16:54.760058Z",
     "iopub.status.busy": "2025-04-07T00:16:54.760058Z",
     "iopub.status.idle": "2025-04-07T00:16:54.807063Z",
     "shell.execute_reply": "2025-04-07T00:16:54.806101Z",
     "shell.execute_reply.started": "2025-04-07T00:16:54.760058Z"
    }
   },
   "outputs": [],
   "source": [
    "%matplotlib inline\n",
    "%config InlineBackend.figure_format = 'retina'\n",
    "plt.style.use('ggplot')"
   ]
  },
  {
   "cell_type": "code",
   "execution_count": 4,
   "id": "6e17d517-34b8-4c7e-98ea-a65e69b18ef1",
   "metadata": {
    "execution": {
     "iopub.execute_input": "2025-04-07T00:16:54.810100Z",
     "iopub.status.busy": "2025-04-07T00:16:54.810100Z",
     "iopub.status.idle": "2025-04-07T00:16:54.822631Z",
     "shell.execute_reply": "2025-04-07T00:16:54.821622Z",
     "shell.execute_reply.started": "2025-04-07T00:16:54.810100Z"
    }
   },
   "outputs": [],
   "source": [
    "pd.options.display.float_format = '{:,.2f}'.format"
   ]
  },
  {
   "cell_type": "code",
   "execution_count": 5,
   "id": "a52b271a-4ade-4276-a085-f75b7693e638",
   "metadata": {
    "execution": {
     "iopub.execute_input": "2025-04-07T00:16:54.824622Z",
     "iopub.status.busy": "2025-04-07T00:16:54.824622Z",
     "iopub.status.idle": "2025-04-07T00:17:02.934083Z",
     "shell.execute_reply": "2025-04-07T00:17:02.933123Z",
     "shell.execute_reply.started": "2025-04-07T00:16:54.824622Z"
    }
   },
   "outputs": [],
   "source": [
    "gcloud_id = getpass('Google Cloud Services billing ID:')"
   ]
  },
  {
   "cell_type": "code",
   "execution_count": 6,
   "id": "96b7b4d7-7e4f-4b26-bb14-118ff3063c75",
   "metadata": {
    "execution": {
     "iopub.execute_input": "2025-04-07T00:17:02.937084Z",
     "iopub.status.busy": "2025-04-07T00:17:02.936084Z",
     "iopub.status.idle": "2025-04-07T00:17:02.950084Z",
     "shell.execute_reply": "2025-04-07T00:17:02.949113Z",
     "shell.execute_reply.started": "2025-04-07T00:17:02.937084Z"
    }
   },
   "outputs": [],
   "source": [
    "# Forneça código do IBGE da cidade, ou lista de códigos\n",
    "# se quiser cidades vizinhas. P. ex.:\n",
    "# ibge_id = 3106200 -> Belo Horizonte\n",
    "ibge_id = [3303302, 3304904, 3301900] # -> Niteroi e Sao Goncalo e Itaboraí"
   ]
  },
  {
   "cell_type": "markdown",
   "id": "015191d6-fa78-4454-a545-771c80ac756b",
   "metadata": {},
   "source": [
    "# Das Malhas Territorias"
   ]
  },
  {
   "cell_type": "markdown",
   "id": "caaedc7e-dd05-4b18-bf16-8ec3cfd71255",
   "metadata": {},
   "source": [
    "A malha hexagonal H3 será utilizada como recorte espacial principal ao longo das análises†. Recortes hexagonais apresentam vantagens importantes frente a outras geometrias, sobretudo, eles podem reduzir vieses amostrais derivados de efeitos de borda e, adicionalmente, são mais mais adequados do que malhas retangulares para analisar fenômenos em que relações de vizinhança e conectividade são importantes (Birch, Oom, & Beecham, 2007). Essas vantagens da malha hexagonal serão mais imporantes quando estiverem sendo executadas as análises de acessibilidade, mas, até lá, também foi mostrado por Birch et al. (2007) que hexágonos favorecem a visualização de padrões e mitigam, em alguma medida, efeitos de borda.\n",
    "\n",
    "Esses efeitos de borda, simplificadamente, dizem respeito a erros de representação na variação local dos dados. Isto é, outras geometrias — malhas quadriculadas, p. ex. — são mais propensas a apresentar variações bruscas e artificiais entre vizinhos — uma quadrícula com valores muito altos ladeada por quadrículas com valores muito baixos. Isso prejudica a análise e a visualização, assim favorecendo erros de interpretação.\n",
    "\n",
    "Dados socioeconômicos e demográficos, por sua vez, serão imputados em cada hexágono a partir do enso demográfico de 2010. Esses dados censitários serão requisitados ao datalake público da Base dos Dados‡, enquanto que as malhas desses setores serão obtidas junto à biblioteca geobr⨥. Assim, de posse das malhas do IBGE e dos respectivos dados, procedimentos de interpolação espacial⁙ farão a transferência dos dados do censo para os hexágonos.\n",
    "\n",
    "Complementarmente, para além das informações dos setores censitários, a grade estatística⁜ também será utilizada como insumo, a qual apresenta contagens populacionais com uma resolução maior que a dos agregados por setor: há uma malha com resolução de 200x200 m em áreas urbanas e de 1x1 km em áreas rurais. A grade é importante porque remove as áreas inabitadas — a Floresta d Tijuca, no Rio de Janeiro, p. ex. — e porque permitem localizar o centroide dos hexágonos de maneira mais precisa: seguindo recomendação de Stępniak and Jacobs-Crisioni (2017), o centro de cada geometria deve ser ponderado pela distribuição populacional nela contida, a fim de que haja uma representação mais precisa dos tempos de viagem entre geometrias.\n",
    "\n",
    "Resta definir qual a resolução dessas malha. Conforme demonstrado, por exemplo, em Pereira et al. (2019), é importante avaliar distintos tamanhos de geometria, a fim de verificar se os resultados obtidos são realmente robustos ou se não passam de artefatos computacionais. Mas, quais resoluções⁕? A menor escala na qual ainda há dados disponíveis é a grade estatística, de maneira que hexágonos menores que ela não agregariam nenhum valor à análise, ao mesmo tempo em que elevariam, desnecessariamente, o tempo de processamento computacional. Com efeito, a menor resolução utilizada é a 9, com área relativamente próxima a um quadrado de lado 200m. No outro extremo, resta definir a maior resolução utilizada. A maior delas será a 7, com área de aproximadamente 5 km2. Tamahos maiores agregariam grandes regiões muito distintas entre si, contribuindo em demasiado para uma ilusão de homogeneidade a qual não existe — p. ex., a resolução 6 já conta com área de cercade 35km2. Portanto, serão avaliadas as resoluções 7, 8 e 9.\n",
    "\n",
    "    Birch, C. P., Oom, S. P., & Beecham, J. A. (2007). Rectangular and hexagonal grids used for observation, experiment and simulation in ecology. Ecological modelling, 206(3-4), 347-359.\n",
    "    \n",
    "    Pereira, R. H., Banister, D., Schwanen, T., & Wessel, N. (2019). Distributional effects of transport policies on inequalities in access to opportunities in Rio de Janeiro. Journal of Transport and Land Use, 12(1), 741-764.\n",
    "    \n",
    "    Stępniak, M., & Jacobs-Crisioni, C. (2017). Reducing the uncertainty induced by spatial aggregation in accessibility and spatial interaction applications. Journal of Transport Geography, 61, 17-29.\n",
    "\n",
    "    † Especificamente, será feito uso das bibliotecas em Python implementadas pela Uber (https://h3geo.org/), baseadas no sistema proposto em:\n",
    "\n",
    "        Sahr, K., White, D., & Kimerling, A. J. (2003). Geodesic discrete global grid systems. Cartography and Geographic Information Science, 30(2), 121-134.\n",
    "        \n",
    "    ‡ ver https://basedosdados.org/\n",
    "\n",
    "    ⨥ ver https://github.com/ipeaGIT/geobr\n",
    "    \n",
    "    ⁙ https://github.com/pysal/tobler\n",
    "\n",
    "    ⁜ obtida diretamente do site do IBGE em https://censo2010.ibge.gov.br/component/saladeimprensa/?busca=1&id=3&idnoticia=3123&t=grade-estatistica-permite-obter-dados-censo-2010-diversos-recortes-espaciais&view=noticia\n",
    "    \n",
    "    ⁕ ver https://h3geo.org/docs/core-library/restable para uma lista de resoluções e as respectivas dimensões"
   ]
  },
  {
   "cell_type": "markdown",
   "id": "980c0b16",
   "metadata": {},
   "source": [
    "## Áreas Urbanizadas"
   ]
  },
  {
   "cell_type": "code",
   "execution_count": 160,
   "id": "8790db5d",
   "metadata": {},
   "outputs": [],
   "source": [
    "footprint = {}"
   ]
  },
  {
   "cell_type": "markdown",
   "id": "fdc394f0",
   "metadata": {},
   "source": [
    "## 2015"
   ]
  },
  {
   "cell_type": "code",
   "execution_count": 167,
   "id": "9fa7a941",
   "metadata": {},
   "outputs": [],
   "source": [
    "footprint[2015] = (\n",
    "    geobr\n",
    "    .read_urban_area()\n",
    "    .query(\"name_muni.str.contains('Janeiro')\")\n",
    "    .to_crs(31983)\n",
    "    )"
   ]
  },
  {
   "cell_type": "markdown",
   "id": "a2036c38",
   "metadata": {},
   "source": [
    "## 2019"
   ]
  },
  {
   "cell_type": "code",
   "execution_count": 162,
   "id": "167f514d",
   "metadata": {},
   "outputs": [],
   "source": [
    "inpath = pathlib.Path(\n",
    "    \"../database/2. Meio Fisico e Biótico/areas_urbanizadas_br2019.zip\"\n",
    "    )\n",
    "\n",
    "footprint[2019] = (\n",
    "    gpd\n",
    "    .read_file(inpath)\n",
    "    .to_crs(31983)\n",
    "    .sjoin(\n",
    "        tracts.reindex(columns=['geometry'])\n",
    "        )\n",
    "    .drop(columns='index_right')\n",
    "    .reset_index()\n",
    "    .drop_duplicates(subset='index')\n",
    "    .set_index('index')\n",
    "    )"
   ]
  },
  {
   "cell_type": "markdown",
   "id": "96752388-3350-4904-bc93-9de0a8584101",
   "metadata": {},
   "source": [
    "## Malhas Censitárias"
   ]
  },
  {
   "cell_type": "code",
   "execution_count": 7,
   "id": "4d8f7d94-8db8-4e66-a289-5e394a1b92ed",
   "metadata": {
    "execution": {
     "iopub.execute_input": "2025-04-07T00:17:02.951095Z",
     "iopub.status.busy": "2025-04-07T00:17:02.951095Z",
     "iopub.status.idle": "2025-04-07T00:17:11.698253Z",
     "shell.execute_reply": "2025-04-07T00:17:11.697240Z",
     "shell.execute_reply.started": "2025-04-07T00:17:02.951095Z"
    }
   },
   "outputs": [],
   "source": [
    "def get_study_area(ibge_id):\n",
    "    if not isinstance(ibge_id, list):\n",
    "        ibge_id = [ibge_id]\n",
    "\n",
    "    return pd.concat([\n",
    "        geobr.read_census_tract(id_)\n",
    "        for id_\n",
    "        in ibge_id\n",
    "        ])\n",
    "\n",
    "\n",
    "tracts = get_study_area(ibge_id)"
   ]
  },
  {
   "cell_type": "code",
   "execution_count": 8,
   "id": "81bd8495-74be-4a52-b170-15a393dfcdf4",
   "metadata": {
    "execution": {
     "iopub.execute_input": "2025-04-07T00:17:11.699253Z",
     "iopub.status.busy": "2025-04-07T00:17:11.699253Z",
     "iopub.status.idle": "2025-04-07T00:17:11.776433Z",
     "shell.execute_reply": "2025-04-07T00:17:11.775527Z",
     "shell.execute_reply.started": "2025-04-07T00:17:11.699253Z"
    }
   },
   "outputs": [
    {
     "data": {
      "text/plain": [
       "<Projected CRS: EPSG:31983>\n",
       "Name: SIRGAS 2000 / UTM zone 23S\n",
       "Axis Info [cartesian]:\n",
       "- E[east]: Easting (metre)\n",
       "- N[north]: Northing (metre)\n",
       "Area of Use:\n",
       "- name: Brazil - between 48°W and 42°W, northern and southern hemispheres, onshore and offshore.\n",
       "- bounds: (-48.0, -33.5, -42.0, 5.13)\n",
       "Coordinate Operation:\n",
       "- name: UTM zone 23S\n",
       "- method: Transverse Mercator\n",
       "Datum: Sistema de Referencia Geocentrico para las AmericaS 2000\n",
       "- Ellipsoid: GRS 1980\n",
       "- Prime Meridian: Greenwich"
      ]
     },
     "execution_count": 8,
     "metadata": {},
     "output_type": "execute_result"
    }
   ],
   "source": [
    "crs = tracts.estimate_utm_crs(datum_name='SIRGAS 2000')\n",
    "crs"
   ]
  },
  {
   "cell_type": "code",
   "execution_count": 9,
   "id": "efcce5a5-fc31-4e6d-a9d1-7ad7dd877bb3",
   "metadata": {
    "execution": {
     "iopub.execute_input": "2025-04-07T00:17:11.777433Z",
     "iopub.status.busy": "2025-04-07T00:17:11.776433Z",
     "iopub.status.idle": "2025-04-07T00:17:11.808648Z",
     "shell.execute_reply": "2025-04-07T00:17:11.806685Z",
     "shell.execute_reply.started": "2025-04-07T00:17:11.777433Z"
    }
   },
   "outputs": [],
   "source": [
    "tracts = tracts.to_crs(crs)"
   ]
  },
  {
   "cell_type": "markdown",
   "id": "9c31b0ab",
   "metadata": {},
   "source": [
    "## H3"
   ]
  },
  {
   "cell_type": "markdown",
   "id": "cfe28cb2-9e2e-4b0d-892c-c84c8d9f66bb",
   "metadata": {},
   "source": [
    "Abaixo, utiliza-se a função h3fy, cuja documentação pode ser encontrada [aqui](https://pysal.org/tobler/generated/tobler.util.h3fy.html)."
   ]
  },
  {
   "cell_type": "code",
   "execution_count": 265,
   "id": "06bcb55a-5125-4c87-8ada-48a39a01577f",
   "metadata": {
    "execution": {
     "iopub.execute_input": "2025-04-07T00:17:11.810676Z",
     "iopub.status.busy": "2025-04-07T00:17:11.810676Z",
     "iopub.status.idle": "2025-04-07T00:17:13.529911Z",
     "shell.execute_reply": "2025-04-07T00:17:13.528947Z",
     "shell.execute_reply.started": "2025-04-07T00:17:11.810676Z"
    }
   },
   "outputs": [],
   "source": [
    "hexes = (\n",
    "    h3fy(tracts, resolution=9)\n",
    "    .reset_index()\n",
    "    .sjoin(\n",
    "        footprint[2015].reindex(columns=['geometry'])\n",
    "        )\n",
    "    .drop(columns='index_right')\n",
    "    .drop_duplicates(subset='hex_id')\n",
    "    .set_index('hex_id')\n",
    "    )"
   ]
  },
  {
   "cell_type": "markdown",
   "id": "3a172e01-5a52-42bf-8533-8c64cda1ca74",
   "metadata": {},
   "source": [
    "# A Leitura dos Atributos Territoriais"
   ]
  },
  {
   "cell_type": "markdown",
   "id": "4390be35-ce91-4bdc-a936-209486decc7c",
   "metadata": {},
   "source": [
    "Resgatando o que foi dito no preâmbulo deste script, estamos interessados nas seguintes variáveis:\n",
    "1. Contagens populacionais\n",
    "2. Contagem de domicílios\n",
    "3. Rendimentos médios\n",
    "\n",
    "A ideia, portanto, é fazer a leitura e o ajuste dessas variáveis para que possam ser imptuadas nas malhas hexagonais H3.\n",
    "\n",
    "Deve-se salientar que para 2022, os dados de rendimento médio por setor censitário não estão disponíveis e, por ora, apenas há possibilidade de mapear os rendimentos dos responsáveis pelos domicílios. Embora isso revele insights interessantes, não é possível afirmar categoricamente quais são as áreas de maior ou menor rendimento da cidade."
   ]
  },
  {
   "cell_type": "markdown",
   "id": "24f2328e-8f8c-4ea4-9a04-c3a02c9d74ce",
   "metadata": {},
   "source": [
    "## Censo 2010"
   ]
  },
  {
   "cell_type": "markdown",
   "id": "068023bd-7dbe-483e-a2e3-dcc72bdd7212",
   "metadata": {},
   "source": [
    "Os rendimentos serão obtidos a partir da API da Base dos Dados. Especificamente, utiliza-se a seguinte variável da tabela básica do Censo de 2010:\n",
    "\n",
    "- v001: Domicílios particulares permanentes ou pessoas responsáveis por domicílios particulares permanentes\n",
    "- v002: Moradores em domicílios particulares permanentes ou população residente em domicílios particulares permanentes\n",
    "- v009: Valor do rendimento nominal médio mensal das pessoas de 10 anos ou mais de idade (com e sem rendimento)"
   ]
  },
  {
   "cell_type": "code",
   "execution_count": 11,
   "id": "f77151c0-cc4c-48b0-976f-24957a024988",
   "metadata": {
    "execution": {
     "iopub.execute_input": "2025-04-07T00:17:13.530913Z",
     "iopub.status.busy": "2025-04-07T00:17:13.530913Z",
     "iopub.status.idle": "2025-04-07T00:17:13.545915Z",
     "shell.execute_reply": "2025-04-07T00:17:13.544937Z",
     "shell.execute_reply.started": "2025-04-07T00:17:13.530913Z"
    },
    "tags": []
   },
   "outputs": [],
   "source": [
    "def _sql_style_list(sequence):\n",
    "    single_quoted_elements = [f\"'{c}'\" for c in sequence]\n",
    "    return ', '.join(single_quoted_elements)"
   ]
  },
  {
   "cell_type": "code",
   "execution_count": 12,
   "id": "386293d9-23f7-4866-80a1-ef5bc23bf0e8",
   "metadata": {
    "execution": {
     "iopub.execute_input": "2025-04-07T00:17:13.547915Z",
     "iopub.status.busy": "2025-04-07T00:17:13.546916Z",
     "iopub.status.idle": "2025-04-07T00:17:13.561914Z",
     "shell.execute_reply": "2025-04-07T00:17:13.560912Z",
     "shell.execute_reply.started": "2025-04-07T00:17:13.547915Z"
    },
    "tags": []
   },
   "outputs": [],
   "source": [
    "def read_census_data(query, gcloud_id):\n",
    "    data = bd.read_sql(query,\n",
    "                       billing_project_id=gcloud_id)\n",
    "    \n",
    "    return (\n",
    "        data.astype({'id_setor_censitario': np.int64})\n",
    "            .astype({'id_setor_censitario': str})\n",
    "            .rename(\n",
    "                columns={\n",
    "                    'v009': 'rendimento_medio',\n",
    "                    'v002': 'habitantes',\n",
    "                    'v001': 'domicilios',\n",
    "                    }\n",
    "                )\n",
    "        )"
   ]
  },
  {
   "cell_type": "code",
   "execution_count": 13,
   "id": "42ae9c81-a2b9-472a-82fa-7b8fa2840351",
   "metadata": {
    "execution": {
     "iopub.execute_input": "2025-04-07T00:17:13.566912Z",
     "iopub.status.busy": "2025-04-07T00:17:13.566912Z",
     "iopub.status.idle": "2025-04-07T00:17:17.024567Z",
     "shell.execute_reply": "2025-04-07T00:17:17.023567Z",
     "shell.execute_reply.started": "2025-04-07T00:17:13.566912Z"
    },
    "scrolled": true
   },
   "outputs": [
    {
     "name": "stdout",
     "output_type": "stream",
     "text": [
      "Downloading: 100%|\u001b[32m██████████\u001b[0m|\n"
     ]
    }
   ],
   "source": [
    "query = (\n",
    "    'SELECT id_setor_censitario, v009, v002, v001 '\n",
    "    'FROM basedosdados.br_ibge_censo_demografico.setor_censitario_basico_2010 '\n",
    "    f\"WHERE id_setor_censitario IN ({_sql_style_list(tracts.code_tract.unique())})\"\n",
    "    )\n",
    "tract_data = read_census_data(query, gcloud_id)"
   ]
  },
  {
   "cell_type": "code",
   "execution_count": 14,
   "id": "d0c62c13-e809-42ea-afaf-10b41de384df",
   "metadata": {
    "execution": {
     "iopub.execute_input": "2025-04-07T00:17:17.025531Z",
     "iopub.status.busy": "2025-04-07T00:17:17.025531Z",
     "iopub.status.idle": "2025-04-07T00:17:17.056078Z",
     "shell.execute_reply": "2025-04-07T00:17:17.055118Z",
     "shell.execute_reply.started": "2025-04-07T00:17:17.025531Z"
    }
   },
   "outputs": [
    {
     "data": {
      "application/vnd.microsoft.datawrangler.viewer.v0+json": {
       "columns": [
        {
         "name": "index",
         "rawType": "int64",
         "type": "integer"
        },
        {
         "name": "id_setor_censitario",
         "rawType": "object",
         "type": "string"
        },
        {
         "name": "rendimento_medio",
         "rawType": "float64",
         "type": "float"
        },
        {
         "name": "habitantes",
         "rawType": "float64",
         "type": "float"
        },
        {
         "name": "domicilios",
         "rawType": "float64",
         "type": "float"
        }
       ],
       "conversionMethod": "pd.DataFrame",
       "ref": "88fc6ccf-7fc6-4b36-ac1a-aa57c192061a",
       "rows": [
        [
         "0",
         "330490420000320",
         "611.79",
         "30.0",
         "15.0"
        ],
        [
         "1",
         "330190015000033",
         "459.5",
         "8.0",
         "4.0"
        ],
        [
         "2",
         "330330205000771",
         "2478.8",
         "22.0",
         "11.0"
        ]
       ],
       "shape": {
        "columns": 4,
        "rows": 3
       }
      },
      "text/html": [
       "<div>\n",
       "<style scoped>\n",
       "    .dataframe tbody tr th:only-of-type {\n",
       "        vertical-align: middle;\n",
       "    }\n",
       "\n",
       "    .dataframe tbody tr th {\n",
       "        vertical-align: top;\n",
       "    }\n",
       "\n",
       "    .dataframe thead th {\n",
       "        text-align: right;\n",
       "    }\n",
       "</style>\n",
       "<table border=\"1\" class=\"dataframe\">\n",
       "  <thead>\n",
       "    <tr style=\"text-align: right;\">\n",
       "      <th></th>\n",
       "      <th>id_setor_censitario</th>\n",
       "      <th>rendimento_medio</th>\n",
       "      <th>habitantes</th>\n",
       "      <th>domicilios</th>\n",
       "    </tr>\n",
       "  </thead>\n",
       "  <tbody>\n",
       "    <tr>\n",
       "      <th>0</th>\n",
       "      <td>330490420000320</td>\n",
       "      <td>611.79</td>\n",
       "      <td>30.00</td>\n",
       "      <td>15.00</td>\n",
       "    </tr>\n",
       "    <tr>\n",
       "      <th>1</th>\n",
       "      <td>330190015000033</td>\n",
       "      <td>459.50</td>\n",
       "      <td>8.00</td>\n",
       "      <td>4.00</td>\n",
       "    </tr>\n",
       "    <tr>\n",
       "      <th>2</th>\n",
       "      <td>330330205000771</td>\n",
       "      <td>2,478.80</td>\n",
       "      <td>22.00</td>\n",
       "      <td>11.00</td>\n",
       "    </tr>\n",
       "  </tbody>\n",
       "</table>\n",
       "</div>"
      ],
      "text/plain": [
       "  id_setor_censitario  rendimento_medio  habitantes  domicilios\n",
       "0     330490420000320            611.79       30.00       15.00\n",
       "1     330190015000033            459.50        8.00        4.00\n",
       "2     330330205000771          2,478.80       22.00       11.00"
      ]
     },
     "execution_count": 14,
     "metadata": {},
     "output_type": "execute_result"
    }
   ],
   "source": [
    "tract_data.head(3)"
   ]
  },
  {
   "cell_type": "markdown",
   "id": "a07423e1",
   "metadata": {},
   "source": [
    "# Censo 2022"
   ]
  },
  {
   "cell_type": "code",
   "execution_count": 253,
   "id": "b7af1691",
   "metadata": {},
   "outputs": [],
   "source": [
    "def read_census_data(query, gcloud_id):\n",
    "    data = bd.read_sql(query,\n",
    "                       billing_project_id=gcloud_id)\n",
    "    \n",
    "    return (\n",
    "        data.astype({'id_setor_censitario': np.int64})\n",
    "            .astype({'id_setor_censitario': str})\n",
    "            .rename(\n",
    "                columns={\n",
    "                    'pessoas': 'habitantes',\n",
    "                    }\n",
    "                )\n",
    "        )"
   ]
  },
  {
   "cell_type": "code",
   "execution_count": 254,
   "id": "4440cf39",
   "metadata": {},
   "outputs": [
    {
     "name": "stdout",
     "output_type": "stream",
     "text": [
      "Downloading: 100%|\u001b[32m██████████\u001b[0m|\n"
     ]
    }
   ],
   "source": [
    "query = (\n",
    "    'SELECT id_setor_censitario, pessoas, domicilios, geometria '\n",
    "    'FROM basedosdados.br_ibge_censo_2022.setor_censitario '\n",
    "    f\"WHERE id_municipio IN ({_sql_style_list(ibge_id)})\"\n",
    "    )\n",
    "data_2022 = read_census_data(query, gcloud_id)"
   ]
  },
  {
   "cell_type": "code",
   "execution_count": 255,
   "id": "d3e08407",
   "metadata": {},
   "outputs": [],
   "source": [
    "data_2022 = gpd.GeoDataFrame(\n",
    "    data_2022,\n",
    "    geometry=gpd.GeoSeries.from_wkt(data_2022['geometria']),\n",
    "    crs=4326\n",
    "    ).drop(columns='geometria').to_crs(31983)\n"
   ]
  },
  {
   "cell_type": "code",
   "execution_count": 256,
   "id": "07c050fc",
   "metadata": {},
   "outputs": [],
   "source": [
    "# Adding income from head of household\n",
    "\n",
    "inpath = pathlib.Path(\n",
    "    \"../database/1. Socioeconômicos/agregado_setores-renda_responsavel.zip\"\n",
    "    )\n",
    "\n",
    "income_head_household = (\n",
    "    pd\n",
    "    .read_csv(inpath, sep=';')\n",
    "    .rename(\n",
    "        columns={\n",
    "            'CD_SETOR': 'id_setor_censitario',\n",
    "            # Rendimento é SÓ O DO RESPONSÁVEL!!!\n",
    "            # Mas tô chamando assim para funcionar nas funções abaixo\n",
    "            'V06004': 'rendimento_medio', \n",
    "            }\n",
    "        )\n",
    "    .reindex(columns=['id_setor_censitario', 'rendimento_medio'])\n",
    "    .astype({'id_setor_censitario': str})\n",
    "    .set_index('id_setor_censitario')\n",
    "    .replace({'rendimento_medio': {'X': None}})\n",
    "    .pipe(\n",
    "        lambda df: df.assign(\n",
    "            rendimento_medio=(\n",
    "                df\n",
    "                .rendimento_medio\n",
    "                .str.replace(',', '.', regex=False)\n",
    "                .replace(r'^\\.$', None, regex=True)\n",
    "                .astype(float)\n",
    "            )\n",
    "        )\n",
    "    )\n",
    ")\n",
    "\n",
    "data_2022 = data_2022.merge(\n",
    "    income_head_household,\n",
    "    how='left',\n",
    "    left_on='id_setor_censitario',\n",
    "    right_index=True,\n",
    "    )"
   ]
  },
  {
   "cell_type": "markdown",
   "id": "7a7a625b-b3c7-4ca1-97db-374601265148",
   "metadata": {},
   "source": [
    "## Imputacao: Dados Censitários -> Malhas Censitarias"
   ]
  },
  {
   "cell_type": "markdown",
   "id": "303fd4f8-3e67-4a86-a521-10ee8cdfb688",
   "metadata": {},
   "source": [
    "Esta parte faz a junçao dos dados dos setores censitários com as respectivas geometrias dos setores. Após esse processo, será feita a interpolação espacial dos dados para os Hexágonos H3."
   ]
  },
  {
   "cell_type": "code",
   "execution_count": 257,
   "id": "73e549dc-011d-49d7-aafa-db95c655874f",
   "metadata": {
    "execution": {
     "iopub.execute_input": "2025-04-07T00:17:17.058094Z",
     "iopub.status.busy": "2025-04-07T00:17:17.058094Z",
     "iopub.status.idle": "2025-04-07T00:17:17.104080Z",
     "shell.execute_reply": "2025-04-07T00:17:17.102114Z",
     "shell.execute_reply.started": "2025-04-07T00:17:17.058094Z"
    }
   },
   "outputs": [
    {
     "data": {
      "text/html": [
       "<div>\n",
       "<style scoped>\n",
       "    .dataframe tbody tr th:only-of-type {\n",
       "        vertical-align: middle;\n",
       "    }\n",
       "\n",
       "    .dataframe tbody tr th {\n",
       "        vertical-align: top;\n",
       "    }\n",
       "\n",
       "    .dataframe thead th {\n",
       "        text-align: right;\n",
       "    }\n",
       "</style>\n",
       "<table border=\"1\" class=\"dataframe\">\n",
       "  <thead>\n",
       "    <tr style=\"text-align: right;\">\n",
       "      <th></th>\n",
       "      <th>id_setor_censitario</th>\n",
       "      <th>code_muni</th>\n",
       "      <th>name_muni</th>\n",
       "      <th>habitantes</th>\n",
       "      <th>domicilios</th>\n",
       "      <th>rendimento_medio</th>\n",
       "      <th>geometry</th>\n",
       "    </tr>\n",
       "  </thead>\n",
       "  <tbody>\n",
       "    <tr>\n",
       "      <th>0</th>\n",
       "      <td>330330205000195</td>\n",
       "      <td>3,303,302.00</td>\n",
       "      <td>Niterói</td>\n",
       "      <td>769.00</td>\n",
       "      <td>328.00</td>\n",
       "      <td>3,715.75</td>\n",
       "      <td>POLYGON ((693454.959 7465557.459, 693397.504 7...</td>\n",
       "    </tr>\n",
       "    <tr>\n",
       "      <th>1</th>\n",
       "      <td>330330205000196</td>\n",
       "      <td>3,303,302.00</td>\n",
       "      <td>Niterói</td>\n",
       "      <td>333.00</td>\n",
       "      <td>112.00</td>\n",
       "      <td>5,450.32</td>\n",
       "      <td>POLYGON ((693397.504 7465619.667, 693363.964 7...</td>\n",
       "    </tr>\n",
       "    <tr>\n",
       "      <th>2</th>\n",
       "      <td>330330205000197</td>\n",
       "      <td>3,303,302.00</td>\n",
       "      <td>Niterói</td>\n",
       "      <td>736.00</td>\n",
       "      <td>261.00</td>\n",
       "      <td>7,122.06</td>\n",
       "      <td>POLYGON ((693419.174 7465709.629, 693465.704 7...</td>\n",
       "    </tr>\n",
       "    <tr>\n",
       "      <th>3</th>\n",
       "      <td>330330205000198</td>\n",
       "      <td>3,303,302.00</td>\n",
       "      <td>Niterói</td>\n",
       "      <td>804.00</td>\n",
       "      <td>328.00</td>\n",
       "      <td>4,564.74</td>\n",
       "      <td>POLYGON ((693363.964 7465656.221, 693260.771 7...</td>\n",
       "    </tr>\n",
       "    <tr>\n",
       "      <th>4</th>\n",
       "      <td>330330205000199</td>\n",
       "      <td>3,303,302.00</td>\n",
       "      <td>Niterói</td>\n",
       "      <td>781.00</td>\n",
       "      <td>290.00</td>\n",
       "      <td>4,217.08</td>\n",
       "      <td>POLYGON ((693260.771 7465742.727, 693114.911 7...</td>\n",
       "    </tr>\n",
       "  </tbody>\n",
       "</table>\n",
       "</div>"
      ],
      "text/plain": [
       "  id_setor_censitario    code_muni name_muni  habitantes  domicilios  \\\n",
       "0     330330205000195 3,303,302.00   Niterói      769.00      328.00   \n",
       "1     330330205000196 3,303,302.00   Niterói      333.00      112.00   \n",
       "2     330330205000197 3,303,302.00   Niterói      736.00      261.00   \n",
       "3     330330205000198 3,303,302.00   Niterói      804.00      328.00   \n",
       "4     330330205000199 3,303,302.00   Niterói      781.00      290.00   \n",
       "\n",
       "   rendimento_medio                                           geometry  \n",
       "0          3,715.75  POLYGON ((693454.959 7465557.459, 693397.504 7...  \n",
       "1          5,450.32  POLYGON ((693397.504 7465619.667, 693363.964 7...  \n",
       "2          7,122.06  POLYGON ((693419.174 7465709.629, 693465.704 7...  \n",
       "3          4,564.74  POLYGON ((693363.964 7465656.221, 693260.771 7...  \n",
       "4          4,217.08  POLYGON ((693260.771 7465742.727, 693114.911 7...  "
      ]
     },
     "execution_count": 257,
     "metadata": {},
     "output_type": "execute_result"
    }
   ],
   "source": [
    "# União entre malha de setores e respectivos dados\n",
    "tracts_with_data = (\n",
    "    tracts\n",
    "    .merge(\n",
    "        tract_data,\n",
    "        left_on='code_tract',\n",
    "        right_on='id_setor_censitario',\n",
    "        how='left',\n",
    "    )\n",
    "    .reindex(\n",
    "        columns=[\n",
    "            'id_setor_censitario',\n",
    "            'code_muni',\n",
    "            'name_muni',\n",
    "            'habitantes',\n",
    "            'domicilios',\n",
    "            'rendimento_medio',\n",
    "            'geometry',\n",
    "        ]\n",
    "    )\n",
    ")\n",
    "\n",
    "tracts_with_data.head()"
   ]
  },
  {
   "cell_type": "markdown",
   "id": "bd2bef5f-4178-4c73-aa47-99dac9f2b3dc",
   "metadata": {},
   "source": [
    "## Interpolações: Setor Censitário → Hexágonos"
   ]
  },
  {
   "cell_type": "code",
   "execution_count": 268,
   "id": "1c9ac323-ab92-4e4e-8841-9e22b521e78c",
   "metadata": {
    "execution": {
     "iopub.execute_input": "2025-04-07T00:17:17.106115Z",
     "iopub.status.busy": "2025-04-07T00:17:17.106115Z",
     "iopub.status.idle": "2025-04-07T00:17:18.819812Z",
     "shell.execute_reply": "2025-04-07T00:17:18.818814Z",
     "shell.execute_reply.started": "2025-04-07T00:17:17.106115Z"
    }
   },
   "outputs": [],
   "source": [
    "hex_with_data = (\n",
    "    area_interpolate(\n",
    "        source_df=tracts_with_data.assign(\n",
    "            geometry=lambda x: x.buffer(0)\n",
    "            ),\n",
    "        target_df=hexes,\n",
    "        extensive_variables=['habitantes', 'domicilios'],\n",
    "        intensive_variables=['rendimento_medio',]\n",
    "        )\n",
    "    .drop(columns='geometry')\n",
    "    .set_index(hexes.index)\n",
    "    .pipe(\n",
    "        lambda df: pd.merge(\n",
    "            hexes,\n",
    "            df,\n",
    "            left_index=True,\n",
    "            right_index=True,\n",
    "            )\n",
    "        )\n",
    "    )"
   ]
  },
  {
   "cell_type": "code",
   "execution_count": 269,
   "id": "431fefb0-c50b-47be-acd3-02eb5526c361",
   "metadata": {
    "execution": {
     "iopub.execute_input": "2025-04-07T00:17:18.821819Z",
     "iopub.status.busy": "2025-04-07T00:17:18.821819Z",
     "iopub.status.idle": "2025-04-07T00:17:18.851341Z",
     "shell.execute_reply": "2025-04-07T00:17:18.850339Z",
     "shell.execute_reply.started": "2025-04-07T00:17:18.821819Z"
    }
   },
   "outputs": [
    {
     "data": {
      "text/html": [
       "<div>\n",
       "<style scoped>\n",
       "    .dataframe tbody tr th:only-of-type {\n",
       "        vertical-align: middle;\n",
       "    }\n",
       "\n",
       "    .dataframe tbody tr th {\n",
       "        vertical-align: top;\n",
       "    }\n",
       "\n",
       "    .dataframe thead th {\n",
       "        text-align: right;\n",
       "    }\n",
       "</style>\n",
       "<table border=\"1\" class=\"dataframe\">\n",
       "  <thead>\n",
       "    <tr style=\"text-align: right;\">\n",
       "      <th></th>\n",
       "      <th>geometry</th>\n",
       "      <th>habitantes</th>\n",
       "      <th>domicilios</th>\n",
       "      <th>rendimento_medio</th>\n",
       "    </tr>\n",
       "    <tr>\n",
       "      <th>hex_id</th>\n",
       "      <th></th>\n",
       "      <th></th>\n",
       "      <th></th>\n",
       "      <th></th>\n",
       "    </tr>\n",
       "  </thead>\n",
       "  <tbody>\n",
       "    <tr>\n",
       "      <th>89a8a2a6227ffff</th>\n",
       "      <td>POLYGON ((704113.509 7475963.932, 704212.532 7...</td>\n",
       "      <td>1,130.81</td>\n",
       "      <td>376.13</td>\n",
       "      <td>722.61</td>\n",
       "    </tr>\n",
       "    <tr>\n",
       "      <th>89a8a2a74cbffff</th>\n",
       "      <td>POLYGON ((710284.325 7471942.093, 710383.274 7...</td>\n",
       "      <td>485.98</td>\n",
       "      <td>146.58</td>\n",
       "      <td>467.23</td>\n",
       "    </tr>\n",
       "  </tbody>\n",
       "</table>\n",
       "</div>"
      ],
      "text/plain": [
       "                                                          geometry  \\\n",
       "hex_id                                                               \n",
       "89a8a2a6227ffff  POLYGON ((704113.509 7475963.932, 704212.532 7...   \n",
       "89a8a2a74cbffff  POLYGON ((710284.325 7471942.093, 710383.274 7...   \n",
       "\n",
       "                 habitantes  domicilios  rendimento_medio  \n",
       "hex_id                                                     \n",
       "89a8a2a6227ffff    1,130.81      376.13            722.61  \n",
       "89a8a2a74cbffff      485.98      146.58            467.23  "
      ]
     },
     "execution_count": 269,
     "metadata": {},
     "output_type": "execute_result"
    }
   ],
   "source": [
    "hex_with_data.head(2)"
   ]
  },
  {
   "cell_type": "code",
   "execution_count": 270,
   "id": "b64e22f5",
   "metadata": {},
   "outputs": [],
   "source": [
    "output_dir = pathlib.Path().cwd().parent / 'database/1. Socioeconômicos'\n",
    "output_dir.mkdir(parents=True, exist_ok=True)  # Ensure the directory exists\n",
    "\n",
    "output_path = output_dir / 'sociodemografia_2010.parquet'\n",
    "hex_with_data.to_parquet(output_path, compression='brotli')"
   ]
  },
  {
   "cell_type": "markdown",
   "id": "3a4d1d71",
   "metadata": {},
   "source": [
    "# Visualizações"
   ]
  },
  {
   "cell_type": "code",
   "execution_count": 261,
   "id": "6dec4258",
   "metadata": {},
   "outputs": [],
   "source": [
    "def classify_income_deciles(\n",
    "        df,\n",
    "        income_col='rendimento_medio',\n",
    "        weight_col='habitantes',\n",
    "        ):\n",
    "    \"\"\"\n",
    "    Classifies each row into population-weighted income deciles using statsmodels.\n",
    "    \n",
    "    Parameters:\n",
    "        df: pd.DataFrame\n",
    "        income_col: str - column name with income\n",
    "        weight_col: str - column name with population weights\n",
    "    \n",
    "    Returns:\n",
    "        pd.Series with decile labels (1–10)\n",
    "    \"\"\"\n",
    "    d = DescrStatsW(df[income_col], weights=df[weight_col])\n",
    "    # Compute the quantile breakpoints for deciles\n",
    "    quantiles = [d.quantile(q) for q in np.linspace(0.1, 1.0, 10)]\n",
    "    bins = [df[income_col].min() - 1] + [float(q) for q in quantiles]\n",
    "    \n",
    "    # Assign decile labels 1–10\n",
    "    return pd.cut(df[income_col], bins=bins, labels=range(1, 11), include_lowest=True)"
   ]
  },
  {
   "cell_type": "code",
   "execution_count": 273,
   "id": "94411c35",
   "metadata": {},
   "outputs": [],
   "source": [
    "def plot_socioeconomic_data(\n",
    "    hexagons: gpd.GeoDataFrame,\n",
    "    income_col: str,\n",
    "    population_column: str,\n",
    "    income_as_decile: bool = True,\n",
    "    income_scheme: str = \"quantiles\",\n",
    "    population_scheme: str = \"FisherJenks\",\n",
    "    cmap: str = \"RdBu\",\n",
    "    dpi: int = 600,\n",
    "    output_file: str = None,\n",
    "):\n",
    "    \"\"\"\n",
    "    Plot hexagons scaled by population and colored by smoothed income.\n",
    "\n",
    "    Parameters:\n",
    "        hex_gdf (GeoDataFrame): GeoDataFrame with hexagonal cells.\n",
    "        income_metric (str): Base name of income column (e.g., 'income').\n",
    "        population_column (str): Name of population column.\n",
    "        income_scheme (str): Color classification scheme (e.g., 'quantiles').\n",
    "        cmap (str): Matplotlib colormap (e.g., 'RdBu').\n",
    "        dpi (int): Resolution for saved image.\n",
    "        output_file (str): File path to save image (optional).\n",
    "    \"\"\"\n",
    "    validate_column_exists(hexagons, income_col)\n",
    "    validate_column_exists(hexagons, population_column)\n",
    "\n",
    "    hex_gdf = hexagons.query('habitantes > 1')\n",
    "    if income_as_decile:\n",
    "        hex_gdf['decil_renda'] = classify_income_deciles(hex_gdf)\n",
    "        income_col = 'decil_renda'\n",
    "        income_scheme = None\n",
    "\n",
    "    fig, ax = setup_plot(hex_gdf)\n",
    "    plot_hexagons_scaled_by_population(\n",
    "        hex_gdf, income_col, population_column, income_scheme,\n",
    "        cmap, ax, population_scheme,\n",
    "        )\n",
    "    add_basemap(ax, hex_gdf)\n",
    "    add_north_arrow(ax)\n",
    "    add_population_legend(ax)\n",
    "    add_scalebar(ax)\n",
    "    add_annotations(ax)\n",
    "    finalize_plot(fig, ax, dpi, output_file)\n",
    "\n",
    "\n",
    "def plot_hexagons_scaled_by_population(\n",
    "    hex_gdf, income_col, pop_col, income_scheme, cmap, ax, population_scheme,\n",
    "):\n",
    "    \"\"\"\n",
    "    Draw hexagons resized by population bin and colored by income.\n",
    "    \"\"\"\n",
    "    values = hex_gdf[pop_col].fillna(0)\n",
    "   \n",
    "    classifier_cls = getattr(mapclassify, population_scheme)\n",
    "    try:\n",
    "        classifier = classifier_cls(values, k=5)\n",
    "    except:\n",
    "        classifier = classifier_cls(values)\n",
    "\n",
    "    bins = classifier.bins\n",
    "    bins = np.concatenate([[values.min()], bins])\n",
    "    \n",
    "    scales, _ = compute_population_scales_and_labels(bins)\n",
    "    hex_gdf[\"_scale\"] = pd.cut(\n",
    "        values, bins=bins, labels=scales, include_lowest=True\n",
    "    ).astype(float)\n",
    "\n",
    "    scaled_geom = [\n",
    "        scale(geom, xfact=s, yfact=s, origin=geom.centroid)\n",
    "        for geom, s in zip(hex_gdf.geometry, hex_gdf[\"_scale\"])\n",
    "    ]\n",
    "\n",
    "    gdf_scaled = gpd.GeoDataFrame(\n",
    "        hex_gdf[[income_col]].copy(),\n",
    "        geometry=scaled_geom,\n",
    "        crs=hex_gdf.crs\n",
    "    )\n",
    "\n",
    "    gdf_scaled.plot(\n",
    "        column=income_col,\n",
    "        cmap=cmap,\n",
    "        scheme=income_scheme,\n",
    "        legend=True,\n",
    "        edgecolor=\"none\",\n",
    "        ax=ax,\n",
    "        legend_kwds={\"fontsize\": 12, 'title': 'Decil de Renda', 'title_fontsize': 14}\n",
    "    )\n",
    "    ax._cached_population_bins = bins\n",
    "\n",
    "\n",
    "def compute_population_scales_and_labels(bins, scale_min=0.4, scale_max=1.0):\n",
    "    \"\"\"\n",
    "    Given a list of bin edges, compute visual scaling factors and label strings.\n",
    "\n",
    "    Parameters:\n",
    "        bins (array-like): Bin edges (length = n_bins + 1)\n",
    "        scale_min (float): Minimum visual scale factor\n",
    "        scale_max (float): Maximum visual scale factor\n",
    "\n",
    "    Returns:\n",
    "        scales (List[float]): Scaling factors (length = len(bins) - 1)\n",
    "        labels (List[str]): Formatted bin labels\n",
    "    \"\"\"\n",
    "    n_bins = len(bins) - 1\n",
    "    scales = np.linspace(scale_min, scale_max, n_bins)\n",
    "    labels = [\n",
    "        f\"{int(bins[i]):,} – {int(bins[i + 1]):,}\"\n",
    "        for i in range(n_bins)\n",
    "    ]\n",
    "    return scales, labels\n",
    "    \n",
    "\n",
    "def validate_column_exists(gdf, column):\n",
    "    if column not in gdf.columns:\n",
    "        raise ValueError(f\"Column '{column}' not found in GeoDataFrame.\")\n",
    "\n",
    "\n",
    "def setup_plot(gdf):\n",
    "    a4_width = 11.7\n",
    "    bounds = gdf.total_bounds\n",
    "    aspect = (bounds[3] - bounds[1]) / (bounds[2] - bounds[0])\n",
    "    height = a4_width * aspect\n",
    "    fig, ax = plt.subplots(figsize=(a4_width, height))\n",
    "    return fig, ax\n",
    "\n",
    "\n",
    "def add_basemap(ax, gdf):\n",
    "    ctx.add_basemap(\n",
    "        ax,\n",
    "        crs=gdf.crs,\n",
    "        source=ctx.providers.CartoDB.PositronNoLabels,\n",
    "    )\n",
    "\n",
    "\n",
    "def add_scalebar(ax):\n",
    "    scalebar = ScaleBar(\n",
    "        dx=1,\n",
    "        units=\"m\",\n",
    "        location=\"lower right\",\n",
    "        scale_loc=\"bottom\",\n",
    "        box_alpha=0.5\n",
    "    )\n",
    "    ax.add_artist(scalebar)\n",
    "\n",
    "\n",
    "def add_north_arrow(ax):\n",
    "    ax.annotate(\n",
    "        \"N\",\n",
    "        xy=(0.975, 0.975),\n",
    "        xytext=(0.975, 0.85),\n",
    "        arrowprops=dict(\n",
    "            facecolor=\"black\",\n",
    "            width=5,\n",
    "            headwidth=15\n",
    "        ),\n",
    "        ha=\"center\",\n",
    "        va=\"center\",\n",
    "        fontsize=20,\n",
    "        xycoords=\"axes fraction\"\n",
    "    )\n",
    "\n",
    "\n",
    "def add_scalebar(ax):\n",
    "    \"\"\"\n",
    "    Adds a scalebar to the plot.\n",
    "\n",
    "    Parameters:\n",
    "        ax (matplotlib.axes._subplots.AxesSubplot): The Matplotlib axis.\n",
    "    \"\"\"\n",
    "    scalebar = ScaleBar(\n",
    "        dx=1,\n",
    "        units=\"m\",\n",
    "        location=\"lower right\",\n",
    "        scale_loc=\"bottom\",\n",
    "        box_alpha=0.5,\n",
    "    )\n",
    "    ax.add_artist(scalebar)\n",
    "\n",
    "\n",
    "def finalize_plot(fig, ax, dpi, output_file):\n",
    "    ax.axis(\"off\")\n",
    "    ax.set_title(\n",
    "        \"Distribuição da população segundo renda (2010)\",\n",
    "        fontsize=14\n",
    "    )\n",
    "    if output_file:\n",
    "        plt.savefig(output_file, dpi=dpi, bbox_inches=\"tight\")\n",
    "    else:\n",
    "        plt.show()\n",
    "    plt.close(fig)\n",
    "\n",
    "\n",
    "def add_population_legend(ax, loc=\"lower right\", bbox_to_anchor=(0.995, 0.05)):\n",
    "    \"\"\"\n",
    "    Add a hex size legend using hexagonal markers of varying size.\n",
    "    \"\"\"\n",
    "    bins = getattr(ax, \"_cached_population_bins\", None)\n",
    "    scales, labels = compute_population_scales_and_labels(bins)\n",
    "\n",
    "    # Scale marker size linearly (you may want to fine-tune factor)\n",
    "    size_factor = 10  # Adjust for visual match\n",
    "    handles = [\n",
    "        Line2D(\n",
    "            [], [],\n",
    "            marker=\"h\",  # or 'H' for filled hexagon\n",
    "            color=\"black\",\n",
    "            linestyle=\"None\",\n",
    "            markersize=scale * size_factor,\n",
    "            markerfacecolor=\"black\",\n",
    "            markeredgewidth=0,\n",
    "            linewidth=0\n",
    "        )\n",
    "        for scale in scales\n",
    "    ]\n",
    "\n",
    "    legend2 = Legend(\n",
    "        ax,\n",
    "        handles,\n",
    "        labels,\n",
    "        loc=loc,\n",
    "        bbox_to_anchor=bbox_to_anchor,\n",
    "        frameon=True,\n",
    "        fontsize=12,\n",
    "        title=\"População Total\",\n",
    "        labelspacing=1.25,\n",
    "        title_fontsize=14,\n",
    "    )\n",
    "\n",
    "    ax.add_artist(legend2)\n",
    "\n",
    "\n",
    "def _get_places_to_plot():\n",
    "    muni_by_neighborhood = {\n",
    "        'Icaraí': 'Niterói',\n",
    "        'Estrela Do Norte': 'São Gonçalo',\n",
    "        'Alcântara': 'Alcântara (São Gonçalo)',\n",
    "        'Itaboraí': 'Itaboraí',\n",
    "        'Manilha': 'Manilha (Itaboraí)'\n",
    "    }\n",
    "\n",
    "    return (\n",
    "        geobr\n",
    "        .read_neighborhood()\n",
    "        .to_crs(31983)\n",
    "        .query(\"abbrev_state == 'RJ'\")\n",
    "        .query(\"name_neighborhood.isin(@muni_by_neighborhood)\")\n",
    "        .replace({'name_neighborhood': muni_by_neighborhood})\n",
    "        .set_index('name_neighborhood')\n",
    "        .centroid\n",
    "        .to_dict()\n",
    "        )\n",
    "\n",
    "\n",
    "def add_annotations(ax):\n",
    "    \"\"\"\n",
    "    Add annotations with arrows pointing to municipal seats and Alcântara.\n",
    "\n",
    "    Parameters:\n",
    "        ax (matplotlib.axes.Axes): The Matplotlib axis to add annotations to.\n",
    "        crs (pyproj.CRS or str): The target CRS (e.g., EPSG:31983).\n",
    "    \"\"\"\n",
    "    places = _get_places_to_plot()\n",
    "    \n",
    "    # Transform coordinates to the target CRS\n",
    "    offset = -7000\n",
    "    for name, coords in places.items():\n",
    "        x, y = coords.x, coords.y\n",
    "        ax.annotate(\n",
    "            name,\n",
    "            xy=(x, y),  # Coordinates\n",
    "            xytext=(x, y + offset),  # Offset for text (adjust as needed)\n",
    "            ha='center',\n",
    "            arrowprops=dict(\n",
    "                #arrowstyle=\"->\",\n",
    "                linewidth=.5,  # Make the arrow thicker\n",
    "                color=\"black\",\n",
    "                ),\n",
    "            fontsize=12,\n",
    "            color=\"black\",\n",
    "            bbox=dict(boxstyle=\"round,pad=0.3\", edgecolor=\"black\", facecolor=\"white\"),\n",
    "        )\n",
    "\n",
    "        offset *= -1\n",
    "    \n",
    "\n"
   ]
  },
  {
   "cell_type": "code",
   "execution_count": 274,
   "id": "5cc9c906",
   "metadata": {},
   "outputs": [],
   "source": [
    "outpath = pathlib.Path(\n",
    "    \"../outputs/mapas/sociodemografia_2010.png\"\n",
    "    )"
   ]
  },
  {
   "cell_type": "code",
   "execution_count": 275,
   "id": "ed1cf33b",
   "metadata": {},
   "outputs": [],
   "source": [
    "plot_socioeconomic_data(\n",
    "    hexagons=hex_with_data,\n",
    "    income_col='rendimento_medio',\n",
    "    population_column=\"habitantes\",\n",
    "    population_scheme=\"JenksCaspall\",\n",
    "    cmap=\"RdYlBu\",\n",
    "    output_file=outpath,\n",
    ")"
   ]
  },
  {
   "cell_type": "markdown",
   "id": "0695acd5-d26a-45ad-a95a-2d5e48c4c765",
   "metadata": {},
   "source": [
    "O mapa acima mostra a distribuição dos domicílios nos municípios de Niterói, São Gonçalo e Itaboraí. Uma coisa que talvez seja perceptível é que, na criação da escala de cores do mapa, há algumas pequenas regiões com cores muito intensas, enquanto a maior parte parece homogênea.\n",
    "\n",
    "Isso acontece porquê ao representar dados como a quantidade de domicílios por bairro em uma cidade, é comum encontrar distribuições muito assimétricas — ou seja, a maior parte dos bairros tem poucos domicílios, enquanto poucos bairros concentram números muito altos. Assim, se utilizarmos uma escala uniforme, como de 0 a 3000 domicílios, corremos o risco de comprometer a leitura do mapa.\n",
    "\n",
    "Nesse tipo de situação, a maioria dos bairros ficará representada com cores muito semelhantes, próximas ao início da escala, e apenas os bairros com maior número de domicílios se destacarão visualmente. Isso esconde padrões importantes e dificulta a análise espacial, já que pequenas variações entre os bairros mais comuns passam despercebidas.\n",
    "\n",
    "Para tornar o mapa mais informativo, é recomendável utilizar métodos de classificação que redistribuam melhor os valores, como a divisão por quantis ou o método de Jenks, ou até mesmo aplicar transformações nos dados (como logaritmos). Assim, é possível valorizar visualmente as diferenças reais entre os bairros, mesmo que os valores absolutos estejam concentrados em uma faixa pequena da distribuição."
   ]
  },
  {
   "cell_type": "markdown",
   "id": "fcf77c96-8183-4ec5-8e7b-b6bc690d801f",
   "metadata": {},
   "source": [
    "# Exercício: Mapas Coropléticos"
   ]
  },
  {
   "cell_type": "markdown",
   "id": "d942e87f-2240-4784-b01a-d160ce2e7053",
   "metadata": {},
   "source": [
    "Objetivo: Compreender os princípios básicos do mapeamento coroplético e aplicar técnicas de classificação e escolha de cores para representar dados espaciais.\n",
    "\n",
    "Contexto:\n",
    "\n",
    "Mapas coropléticos são representações cartográficas que utilizam variações de cor para mostrar valores estatísticos agregados por regiões (como estados, municípios ou bairros). Cada região é associada a um valor e preenchida com uma cor que corresponde à sua classe de valor. Embora hoje seja possível criar mapas sem classificação (unclassed), a abordagem com classes (classed) continua sendo valiosa por facilitar a interpretação visual dos dados.\n",
    "\n",
    "Três decisões fundamentais no mapeamento coroplético:\n",
    "- Número de classes: Definir em quantos grupos os valores serão divididos.\n",
    "- Método de classificação: Escolher o algoritmo para agrupar os dados (ex: quantis, intervalos iguais, Jenks).\n",
    "- Escolha das cores: Aplicar uma paleta que represente adequadamente as diferenças entre os grupos.\n",
    "\n",
    "Você deve explorar esses conceitos e, para isso, irá utilizar bibliotecas Python como geopandas e [pacotes do conjunto de bibliotecas PySAL](https://pysal.org/). Acompanhe o capítulo Choropleth Mapping do livro [Geographic Data Science with Python](https://geographicdata.science/book/notebooks/05_choropleth.html) e reproduza o exercício prático lá contido com os municípios acima. Documente o passo a passo e discuta e analise seus achados."
   ]
  },
  {
   "cell_type": "code",
   "execution_count": null,
   "id": "dd74a1ef-5fba-422f-b827-b0b08e0c6004",
   "metadata": {},
   "outputs": [],
   "source": []
  }
 ],
 "metadata": {
  "kernelspec": {
   "display_name": "Python 3",
   "language": "python",
   "name": "python3"
  },
  "language_info": {
   "codemirror_mode": {
    "name": "ipython",
    "version": 3
   },
   "file_extension": ".py",
   "mimetype": "text/x-python",
   "name": "python",
   "nbconvert_exporter": "python",
   "pygments_lexer": "ipython3",
   "version": "3.11.11"
  },
  "toc-autonumbering": true
 },
 "nbformat": 4,
 "nbformat_minor": 5
}
